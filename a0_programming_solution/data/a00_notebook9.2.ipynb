{
 "cells": [
  {
   "cell_type": "markdown",
   "metadata": {},
   "source": [
    "# **Python Fundamentals**"
   ]
  },
  {
   "cell_type": "markdown",
   "metadata": {},
   "source": [
    "**Objective**\n",
    "\n",
    "- The goal of this notebook is to get familiar with the basic concepts of Python that will be used extensively in the (coding) assignments in this course.\n",
    "\n",
    "**Outline**\n",
    "1. Data Types\n",
    "1. Conditional statements and loops\n",
    "1. Saving and Loading Files"
   ]
  },
  {
   "cell_type": "markdown",
   "metadata": {},
   "source": [
    "## **1 Data Types**\n",
    "\n",
    "Built-in data types in Python include:\n",
    "1. Numeric types - int, float, complex\n",
    "1. Sequence types - list, tuple, range\n",
    "1. Set Type - set\n",
    "1. Mapping type - dict\n",
    "1. Text sequence type - str\n",
    "\n",
    ".... and many others\n",
    "\n",
    "Reference: [Python Official Documentation](https://docs.python.org/3/library/stdtypes.html)"
   ]
  },
  {
   "cell_type": "markdown",
   "metadata": {},
   "source": [
    "### **1.1 Numeric types**"
   ]
  },
  {
   "cell_type": "markdown",
   "metadata": {},
   "source": [
    "#### **int**\n",
    "Int corresponds to integers and it is generally not used while training models since weights and biases have to be precise and not approximations"
   ]
  },
  {
   "cell_type": "code",
   "execution_count": 1,
   "metadata": {},
   "outputs": [
    {
     "name": "stdout",
     "output_type": "stream",
     "text": [
      "Integer equivalent of float number: 2\n",
      "Note: int function floors the decimal/ float value\n",
      "You can do various mathematical operations with int variables such as addition(+), subtraction (-), division (/), multiplication (*), floored quotient (//), remainder (%), etc.\n",
      "You can try these yourselves as an exercise\n",
      "\n",
      " Try myself\n",
      "Division: 2.0909090909090904\n",
      "Int division: 2.0\n"
     ]
    }
   ],
   "source": [
    "# assigning an int value to a variable\n",
    "\n",
    "intVar = 1\n",
    "\n",
    "# converting float to int\n",
    "\n",
    "floatVar = 2.5\n",
    "convVar = int(floatVar)\n",
    "\n",
    "print(\"Integer equivalent of float number: \"+str(convVar))\n",
    "print(\"Note: int function floors the decimal/ float value\")\n",
    "print(\"You can do various mathematical operations with int variables such as addition(+), subtraction (-), division (/), multiplication (*), floored quotient (//), remainder (%), etc.\")\n",
    "print(\"You can try these yourselves as an exercise\")\n",
    "\n",
    "# try myself\n",
    "\n",
    "print(\"\\n Try myself\")\n",
    "\n",
    "a = 2.3\n",
    "b = 1.1\n",
    "convA = int(a)\n",
    "convB = int(b)\n",
    "print(\"Division: \"+str(a/b))\n",
    "print(\"Int division: \"+str(convA/convB))"
   ]
  },
  {
   "cell_type": "markdown",
   "metadata": {},
   "source": [
    "#### **float**\n",
    "\n",
    "Float corresponds to floating point numbers which can be of different precisions ex. float16, float32 etc."
   ]
  },
  {
   "cell_type": "code",
   "execution_count": 2,
   "metadata": {},
   "outputs": [
    {
     "name": "stdout",
     "output_type": "stream",
     "text": [
      "The result of dividing 15 by 7.5 is: 2.0\n",
      "float64\n",
      "<class 'numpy.float64'>\n",
      "float32\n",
      "<class 'numpy.float32'>\n",
      "--------------------------------------------------------------------------------------------------------------------------------------------------------------------------------------------------\n",
      "Original number is: 7.336\n",
      "Rounded float number is: 7\n",
      "Number rounded upto 2 decimals is: 7.34\n",
      "Result after floor operation: 7\n",
      "Result after ceiling operation: 8\n",
      "\n",
      " Try myself\n",
      "Original number is: 23.11\n",
      "Rounded float number is: 23\n",
      "Number rounded upto 1 decimal is: 23.1\n",
      "Floor operation: 23\n",
      "Ceiling operation: 24\n"
     ]
    }
   ],
   "source": [
    "# basics\n",
    "\n",
    "floatNum = 7.5\n",
    "\n",
    "# remember: any artihmetic operation between int and float makes the result a float\n",
    "\n",
    "result = 15/floatNum\n",
    "print(\"The result of dividing 15 by 7.5 is: \"+str(result))\n",
    "\n",
    "# converting from float64 to float32\n",
    "# Note: this can be useful when higher precision is not required and reducing precision decreases training time\n",
    "# More important note: Reducing precision also reduces accuracy (:\n",
    "\n",
    "# don't worry if you aren't familiar with the below code, Numpy will be covered in another recitation\n",
    "import numpy as np\n",
    "import math\n",
    "\n",
    "f64 = np.zeros(10,dtype=\"float64\") \n",
    "print(f64.dtype) # use dtype to find the type of an array/ column in df\n",
    "print(type(f64[0]))\n",
    "f32 = np.float32(f64)\n",
    "print(f32.dtype)\n",
    "print(type(f32[0]))\n",
    "\n",
    "# some additional operations with float type\n",
    "\n",
    "print('-'*194)\n",
    "# rounding numbers\n",
    "fNum = 7.336\n",
    "rfNum = round(fNum)\n",
    "rf_2 = round(fNum,2)\n",
    "print(\"Original number is: \"+str(fNum))\n",
    "print(\"Rounded float number is: \"+str(rfNum))\n",
    "print(\"Number rounded upto 2 decimals is: \"+str(rf_2))\n",
    "\n",
    "# floor and ceiling\n",
    "floorNum = math.floor(fNum)\n",
    "ceilNum = math.ceil(fNum)\n",
    "print(\"Result after floor operation: \"+str(floorNum))\n",
    "print(\"Result after ceiling operation: \"+str(ceilNum))\n",
    "\n",
    "# try myself\n",
    "\n",
    "print(\"\\n Try myself\")\n",
    "\n",
    "num = 23.11\n",
    "print(\"Original number is: \"+str(num))\n",
    "print(\"Rounded float number is: \"+str(round(num)))\n",
    "print(\"Number rounded upto 1 decimal is: \"+str(round(num,1)))\n",
    "print(\"Floor operation: \"+str(math.floor(num)))\n",
    "print(\"Ceiling operation: \"+str(math.ceil(num)))"
   ]
  },
  {
   "cell_type": "markdown",
   "metadata": {},
   "source": [
    "### **1.2 Sequence types**"
   ]
  },
  {
   "cell_type": "markdown",
   "metadata": {},
   "source": [
    "#### **Lists**\n",
    "\n",
    "Lists are mutable sequences that are mostly used to store items of the same type but they can also store heterogenous items.\n",
    "\n",
    "List items can store duplicate values and the items can be indexed (zero-indexed)"
   ]
  },
  {
   "cell_type": "code",
   "execution_count": 3,
   "metadata": {},
   "outputs": [
    {
     "name": "stdout",
     "output_type": "stream",
     "text": [
      "[1, 2, 3, 4, 5, 5]\n",
      "[1, 2, 3, 'a', 'a', 'b']\n",
      "5\n",
      "a\n"
     ]
    }
   ],
   "source": [
    "# Construction using square brackets\n",
    "similar_items = [1, 2, 3, 4, 5, 5]\n",
    "different_items = [1, 2, 3, 'a', 'a', 'b']\n",
    "\n",
    "# print list items\n",
    "print(similar_items)\n",
    "print(different_items)\n",
    "\n",
    "# get item at index 4\n",
    "print(similar_items[4])\n",
    "print(different_items[4])"
   ]
  },
  {
   "cell_type": "code",
   "execution_count": 4,
   "metadata": {},
   "outputs": [
    {
     "name": "stdout",
     "output_type": "stream",
     "text": [
      "[0, 1, 2, 3, 4]\n",
      "[5, 6, 7, 8, 9]\n",
      "[0, 1, 2, 3, 4, 5, 6, 7, 8, 9]\n",
      "\n",
      " Try myself\n",
      "[0, 1, 2, 3, 4, 5, 6]\n",
      "[11, 12, 13, 14, 15, 16, 17, 18, 19, 20, 21, 22, 23]\n",
      "[0, 1, 2, 3, 4, 5, 6, 11, 12, 13, 14, 15, 16, 17, 18, 19, 20, 21, 22, 23]\n"
     ]
    }
   ],
   "source": [
    "# Construction using list comprehension\n",
    "first_five = [i for i in range(5)]\n",
    "print(first_five)\n",
    "\n",
    "last_five = [i for i in range(5, 10)]\n",
    "print(last_five)\n",
    "\n",
    "# append lists\n",
    "all_data = first_five + last_five\n",
    "print(all_data)\n",
    "\n",
    "# try myself\n",
    "\n",
    "print(\"\\n Try myself\")\n",
    "\n",
    "ran1 = [i for i in range(7)]\n",
    "print(ran1)\n",
    "\n",
    "ran2 = [i for i in range(11,24)]\n",
    "print(ran2)\n",
    "\n",
    "both = ran1 + ran2\n",
    "print(both)"
   ]
  },
  {
   "cell_type": "markdown",
   "metadata": {},
   "source": [
    "#### **Tuples**\n",
    "\n",
    "Tuple are ordered and unchangeable/immutable (**new items can't be added to it**). \n",
    "\n",
    "Tuples can store duplicate items. \n",
    "\n"
   ]
  },
  {
   "cell_type": "code",
   "execution_count": 5,
   "metadata": {},
   "outputs": [
    {
     "name": "stdout",
     "output_type": "stream",
     "text": [
      "(1, 2, 3)\n",
      "(1, 2, 3, 'four')\n",
      "1\n",
      "3\n"
     ]
    }
   ],
   "source": [
    "similar_items = (1, 2, 3)\n",
    "different_items = (1, 2, 3, \"four\")\n",
    "\n",
    "print(similar_items)\n",
    "print(different_items)\n",
    "\n",
    "# indexing is similar to lists\n",
    "\n",
    "print(similar_items[0])\n",
    "print(different_items[-2]) # negative indexing starts from the end of the list/ tuple"
   ]
  },
  {
   "cell_type": "markdown",
   "metadata": {},
   "source": [
    "#### **Range**\n",
    "\n",
    "Range is a very important function for iteration and it is immutable"
   ]
  },
  {
   "cell_type": "code",
   "execution_count": 6,
   "metadata": {},
   "outputs": [
    {
     "name": "stdout",
     "output_type": "stream",
     "text": [
      "Range with stop number and default step\n",
      "[0, 1, 2, 3, 4, 5, 6, 7, 8, 9]\n",
      "Note: The iterator does not stop at the number specified\n",
      "Range with start, stop and step 2\n",
      "[0, 2, 4, 6, 8, 10]\n",
      "Reverse direction with negative step size\n",
      "[10, 8, 6, 4, 2]\n",
      "\n",
      " Try myself\n",
      "Range with start, stop and negative step -5\n",
      "[23, 18, 13]\n"
     ]
    }
   ],
   "source": [
    "# simple range iterator\n",
    "\n",
    "print(\"Range with stop number and default step\")\n",
    "print(list(range(10)))\n",
    "print(\"Note: The iterator does not stop at the number specified\")\n",
    "\n",
    "print(\"Range with start, stop and step 2\")\n",
    "print(list(range(0,12,2)))\n",
    "\n",
    "print(\"Reverse direction with negative step size\")\n",
    "print(list(range(10,0,-2)))\n",
    "\n",
    "# try myself\n",
    "\n",
    "print(\"\\n Try myself\")\n",
    "print(\"Range with start, stop and negative step -5\")\n",
    "print(list(range(23,11,-5)))"
   ]
  },
  {
   "cell_type": "markdown",
   "metadata": {},
   "source": [
    "### **1.3 Set types**\n",
    "\n",
    "Sets are mutable and they store unordered and unindexed data.\n",
    "\n",
    "They can not store duplicate items.\n"
   ]
  },
  {
   "cell_type": "code",
   "execution_count": 7,
   "metadata": {},
   "outputs": [
    {
     "name": "stdout",
     "output_type": "stream",
     "text": [
      "{1, 2, 3}\n",
      "{'three', 'two', 'one'}\n"
     ]
    }
   ],
   "source": [
    "set1 = {1, 2, 3, 1, 2}\n",
    "print(set1)\n",
    "\n",
    "set2 = {'one', 'two', 'three', 'one', 'two'}\n",
    "print(set2)"
   ]
  },
  {
   "cell_type": "markdown",
   "metadata": {},
   "source": [
    "### **1.4 Mapping type**\n",
    "\n"
   ]
  },
  {
   "cell_type": "markdown",
   "metadata": {},
   "source": [
    "#### **Dictionary**\n",
    "\n",
    "Stores items in key-value pairs. Keys must be unique, hence duplicates can't be stored.\n",
    "\n",
    "From Python 3.7 dictionary items are ordered."
   ]
  },
  {
   "cell_type": "markdown",
   "metadata": {},
   "source": [
    "**Different ways of constructing dictionaries**"
   ]
  },
  {
   "cell_type": "code",
   "execution_count": 8,
   "metadata": {},
   "outputs": [
    {
     "name": "stdout",
     "output_type": "stream",
     "text": [
      "{'one': 1, 'two': 2, 'three': 3}\n",
      "{'one': 1, 'two': 2, 'three': 3}\n",
      "{'one': 1, 'two': 2, 'three': 3}\n",
      "{'one': 1, 'two': 2, 'three': 3}\n",
      "\n",
      " Try myself\n",
      "{'K': 23, 'B': 17, 'N': 12}\n",
      "{'K': 23, 'B': 17, 'N': 12}\n",
      "{'K': 23, 'B': 17, 'N': 12}\n",
      "{'K': 23, 'B': 17, 'N': 12}\n"
     ]
    }
   ],
   "source": [
    "# comma-separated key-value pairs\n",
    "dict1 = {'one': 1, 'two': 2, 'three': 3}\n",
    "print(dict1)\n",
    "\n",
    "dict2 = dict(one=1, two=2, three=3)\n",
    "print(dict2)\n",
    "\n",
    "# using zip function\n",
    "dict3 = dict(zip(['one', 'two', 'three'], [1, 2, 3]))\n",
    "print(dict3)\n",
    "\n",
    "# using tuples in a list\n",
    "dict4 = dict([('one', 1), ('two', 2), ('three', 3)])\n",
    "print(dict4)\n",
    "\n",
    "# try myself\n",
    "\n",
    "print(\"\\n Try myself\")\n",
    "d1 = {'K': 23, 'B': 17, 'N': 12}\n",
    "d2 = dict(K=23, B=17, N=12)\n",
    "d3 = dict(zip(['K', 'B', 'N'], [23, 17, 12]))\n",
    "d4 = dict([('K', 23), ('B', 17), ('N', 12)])\n",
    "\n",
    "print(d1)\n",
    "print(d2)\n",
    "print(d3)\n",
    "print(d4)"
   ]
  },
  {
   "cell_type": "markdown",
   "metadata": {},
   "source": [
    "**Dictionary operations**"
   ]
  },
  {
   "cell_type": "code",
   "execution_count": 9,
   "metadata": {},
   "outputs": [
    {
     "name": "stdout",
     "output_type": "stream",
     "text": [
      "Different ways of getting items is indexing a dictionary\n",
      "1\n",
      "1\n",
      "number 4 does not exist\n",
      "Store new item\n",
      "{'one': 1, 'two': 2, 'three': 3, 'four': 4}\n",
      "4\n",
      "\n",
      " Try myself\n",
      "23\n",
      "23\n",
      "T's birthday does not exist\n",
      "{'K': 23, 'B': 17, 'N': 12, 'T': 9}\n",
      "9\n"
     ]
    }
   ],
   "source": [
    "# get item\n",
    "print('Different ways of getting items is indexing a dictionary')\n",
    "\n",
    "print(dict1['one'])\n",
    "print(dict1.get('one'))\n",
    "print(dict1.get(\"four\", \"number 4 does not exist\"))\n",
    "\n",
    "# save new item\n",
    "print('Store new item')\n",
    "\n",
    "dict1['four'] = 4\n",
    "print(dict1)\n",
    "print(dict1.get(\"four\", \"number 4 does not exist\"))\n",
    "\n",
    "# try myself\n",
    "\n",
    "print(\"\\n Try myself\")\n",
    "print(d1['K'])\n",
    "print(d1.get('K'))\n",
    "print(d1.get('T', \"T's birthday does not exist\"))\n",
    "\n",
    "d1['T'] = 9\n",
    "print(d1)\n",
    "print(d1.get('T', \"T's birthday does not exist\"))"
   ]
  },
  {
   "cell_type": "markdown",
   "metadata": {},
   "source": [
    "## **2 Conditional statements and loops**"
   ]
  },
  {
   "cell_type": "markdown",
   "metadata": {},
   "source": [
    "### **2. 1 Conditional statements**\n",
    "\n",
    "They enable you to perform specific actions based on the boolean value returned by a condition\n",
    "\n",
    "They can be implemented using if-statements"
   ]
  },
  {
   "cell_type": "markdown",
   "metadata": {},
   "source": [
    "**If statements**"
   ]
  },
  {
   "cell_type": "code",
   "execution_count": 19,
   "metadata": {},
   "outputs": [
    {
     "name": "stdout",
     "output_type": "stream",
     "text": [
      " x is less than y\n",
      "\n",
      " Try myself\n",
      "m is greater than n\n"
     ]
    }
   ],
   "source": [
    "x, y = 1, 2\n",
    "\n",
    "if x > y:\n",
    "  print('x is greater than y')\n",
    "elif x < y:\n",
    "  print(' x is less than y')\n",
    "else:\n",
    "  print('x is equal than y')\n",
    "\n",
    "# try myself\n",
    "\n",
    "print(\"\\n Try myself\")\n",
    "m, n = 23, 11\n",
    "\n",
    "if m > n:\n",
    "    print('m is greater than n')\n",
    "elif m < n:\n",
    "    print('m is less than n')\n",
    "else:\n",
    "    print('m is equal n')"
   ]
  },
  {
   "cell_type": "markdown",
   "metadata": {},
   "source": [
    "### **2.2 Loops**\n",
    "\n",
    "Loops are helpful when you need to iterate over a sequence. A sequence can be a list, a tuple, a dictionary, a set or even a range of numbers.\n",
    "\n",
    "They can be implemented using for or while loops\n",
    "\n"
   ]
  },
  {
   "cell_type": "code",
   "execution_count": 24,
   "metadata": {},
   "outputs": [
    {
     "name": "stdout",
     "output_type": "stream",
     "text": [
      "one\n",
      "two\n",
      "three\n",
      "four\n",
      "five\n",
      "\n",
      " Try myself\n",
      "K 1\n",
      "B 2\n",
      "N 3\n",
      "T 4\n",
      "23\n",
      "18\n",
      "13\n"
     ]
    }
   ],
   "source": [
    "# Iterate through a sequence\n",
    "\n",
    "numbers = ['one', 'two', 'three', 'four', 'five']\n",
    "\n",
    "for n in numbers:\n",
    "  print(n)\n",
    "\n",
    "# try myself\n",
    "\n",
    "print(\"\\n Try myself\")\n",
    "friends = ['K', 'B', 'N', 'T']\n",
    "count = 0\n",
    "\n",
    "for f in friends:\n",
    "    count+= 1\n",
    "    print(f, str(count))\n",
    "    \n",
    "for i in range(23,11,-5):\n",
    "    print(i)"
   ]
  },
  {
   "cell_type": "code",
   "execution_count": 12,
   "metadata": {},
   "outputs": [
    {
     "name": "stdout",
     "output_type": "stream",
     "text": [
      "Iterate through numbers 0-4\n",
      "0\n",
      "1\n",
      "2\n",
      "3\n",
      "4\n",
      "Iterate through numbers 1-5\n",
      "1\n",
      "2\n",
      "3\n",
      "4\n",
      "5\n"
     ]
    }
   ],
   "source": [
    "# Iterate through a range of numbers\n",
    "\n",
    "print('Iterate through numbers 0-4')\n",
    "for i in range(5):\n",
    "  print(i)\n",
    "\n",
    "print('Iterate through numbers 1-5')\n",
    "for i in range(1, 6):\n",
    "  print(i)"
   ]
  },
  {
   "cell_type": "markdown",
   "metadata": {},
   "source": [
    "**While loop**\n",
    "\n",
    "Used to iterate through statements as long as the condition being checked is true"
   ]
  },
  {
   "cell_type": "code",
   "execution_count": 13,
   "metadata": {},
   "outputs": [
    {
     "name": "stdout",
     "output_type": "stream",
     "text": [
      "2\n",
      "4\n",
      "6\n",
      "8\n",
      "10\n",
      "Final value is  10\n"
     ]
    }
   ],
   "source": [
    "x = 0\n",
    "\n",
    "while x < 10:\n",
    "  x = x + 2\n",
    "  print(x)\n",
    "\n",
    "print('Final value is ', x)"
   ]
  },
  {
   "cell_type": "markdown",
   "metadata": {},
   "source": [
    "## **3. Saving and Loading Files**"
   ]
  },
  {
   "cell_type": "markdown",
   "metadata": {},
   "source": [
    "### **3.1 Save Data to CSV**"
   ]
  },
  {
   "cell_type": "code",
   "execution_count": 26,
   "metadata": {},
   "outputs": [
    {
     "name": "stdout",
     "output_type": "stream",
     "text": [
      "\n",
      " Try myself\n"
     ]
    }
   ],
   "source": [
    "# Method 1\n",
    "\n",
    "import csv\n",
    "\n",
    "fields = ['No', 'Name']\n",
    "  \n",
    "students = [\n",
    "{'No': 1, 'Name': 'Jane Doe'},\n",
    "{'No': 2, 'Name': 'John Doe'},\n",
    "]\n",
    "\n",
    "with open('students.csv', 'w') as csv_file:\n",
    "  writer = csv.DictWriter(csv_file, fieldnames = fields)\n",
    "  writer.writeheader()\n",
    "  writer.writerows(students)\n",
    "\n",
    "# Method 2: Save dictionary as csv using pandas\n",
    "\n",
    "import pandas as pd\n",
    "\n",
    "studentDict = {'No': [1,2,3],\n",
    "               'Name': ['Sheila Mbadi', 'Jane Doe', 'John Doe']}\n",
    "\n",
    "studentDf = pd.DataFrame(studentDict)\n",
    "studentDf.to_csv('students_2.csv', index=None) \n",
    "\n",
    "# try myself\n",
    "\n",
    "print(\"\\n Try myself\")\n",
    "\n",
    "friendDict = {'Friend': ['K', 'B', 'N'],\n",
    "              'Birthday': [23, 17, 12]}\n",
    "friendDf = pd.DataFrame(friendDict)\n",
    "friendDf.to_csv('friends.csv', index=None)"
   ]
  },
  {
   "cell_type": "markdown",
   "metadata": {},
   "source": [
    "### **3.2 Load CSV Data**\n",
    "\n",
    "- Load the values of a csv file in Python"
   ]
  },
  {
   "cell_type": "code",
   "execution_count": 28,
   "metadata": {},
   "outputs": [
    {
     "name": "stdout",
     "output_type": "stream",
     "text": [
      "\n",
      " Try myself\n"
     ]
    },
    {
     "data": {
      "text/html": [
       "<div>\n",
       "<style scoped>\n",
       "    .dataframe tbody tr th:only-of-type {\n",
       "        vertical-align: middle;\n",
       "    }\n",
       "\n",
       "    .dataframe tbody tr th {\n",
       "        vertical-align: top;\n",
       "    }\n",
       "\n",
       "    .dataframe thead th {\n",
       "        text-align: right;\n",
       "    }\n",
       "</style>\n",
       "<table border=\"1\" class=\"dataframe\">\n",
       "  <thead>\n",
       "    <tr style=\"text-align: right;\">\n",
       "      <th></th>\n",
       "      <th>Friend</th>\n",
       "      <th>Birthday</th>\n",
       "    </tr>\n",
       "  </thead>\n",
       "  <tbody>\n",
       "    <tr>\n",
       "      <th>0</th>\n",
       "      <td>K</td>\n",
       "      <td>23</td>\n",
       "    </tr>\n",
       "    <tr>\n",
       "      <th>1</th>\n",
       "      <td>B</td>\n",
       "      <td>17</td>\n",
       "    </tr>\n",
       "    <tr>\n",
       "      <th>2</th>\n",
       "      <td>N</td>\n",
       "      <td>12</td>\n",
       "    </tr>\n",
       "  </tbody>\n",
       "</table>\n",
       "</div>"
      ],
      "text/plain": [
       "  Friend  Birthday\n",
       "0      K        23\n",
       "1      B        17\n",
       "2      N        12"
      ]
     },
     "execution_count": 28,
     "metadata": {},
     "output_type": "execute_result"
    }
   ],
   "source": [
    "import pandas as pd\n",
    "\n",
    "data = pd.read_csv('students.csv')\n",
    "data\n",
    "\n",
    "# try myself\n",
    "\n",
    "print(\"\\n Try myself\")\n",
    "fdata = pd.read_csv('friends.csv')\n",
    "fdata"
   ]
  },
  {
   "cell_type": "markdown",
   "metadata": {},
   "source": [
    "## **4. Comprehension**\n",
    "\n",
    "Comprehension is set/list builder notation is can be useful in Python to write compact and clean code.\n",
    "\n",
    "The general structure of comprehension is\n",
    "\n",
    "![comprehension](https://4.bp.blogspot.com/-uRPZqKbIGwQ/XRtgWhC6qqI/AAAAAAAAH0w/--oGnwKsnpo00GwQgH2gV3RPwHwK8uONgCLcBGAs/s1600/comprehension.PNG)"
   ]
  },
  {
   "cell_type": "code",
   "execution_count": 31,
   "metadata": {},
   "outputs": [
    {
     "name": "stdout",
     "output_type": "stream",
     "text": [
      "a set of number from 0 to 5: {0, 1, 2, 3, 4, 5}\n",
      "a set of squares of even number from 0 to 5: {0, 16, 4} \n",
      "\n",
      "a list of number from 0 to 5: [0, 1, 2, 3, 4, 5]\n",
      "a list of squares of even number from 0 to 5: [0, 4, 16] \n",
      "\n",
      "joined set: {(7, 8, 9), (1, 2, 3), (4, 5, 6)}\n",
      "\n",
      " Try myself\n",
      "a list of number from 11 to 23: [11, 12, 13, 14, 15, 16, 17, 18, 19, 20, 21, 22, 23]\n",
      "new list: [13, 18] \n",
      "\n",
      "friend joined set: {('N', 12, 10), ('B', 17, 10), ('K', 23, 11)}\n"
     ]
    }
   ],
   "source": [
    "#Set Comprehension\n",
    "set_1 = {x for x in range(6)}\n",
    "print(\"a set of number from 0 to 5:\", set_1)\n",
    "set_2 = {x**2 for x in range(6) if x % 2 == 0}\n",
    "print(\"a set of squares of even number from 0 to 5:\", set_2, \"\\n\")\n",
    "\n",
    "#List comprehension\n",
    "list_1 = [x for x in range(6)]\n",
    "print(\"a list of number from 0 to 5:\", list_1)\n",
    "list_2 = [x**2 for x in range(6) if x % 2 == 0]\n",
    "print(\"a list of squares of even number from 0 to 5:\", list_2, \"\\n\")\n",
    "\n",
    "#Comprehension based operation\n",
    "set_1 = {(1, 2), (4, 5), (7, 8)}\n",
    "set_2 = {(2, 3), (5, 6), (8, 9)}\n",
    "joined_set = {(t1[0], t1[1], t2[1]) for t1 in set_1 for t2 in set_2 if (t1[1] == t2[0])}\n",
    "print(\"joined set:\", joined_set)\n",
    "\n",
    "# try myself\n",
    "\n",
    "print(\"\\n Try myself\")\n",
    "\n",
    "list1 = [x for x in range(11,24)]\n",
    "print(\"a list of number from 11 to 23:\", list1)\n",
    "list2 = [x-2 for x in range(11,24) if x%5 == 0]\n",
    "print(\"new list:\", list2, \"\\n\")\n",
    "\n",
    "set1 = {('K', 23), ('B', 17), ('N', 12)}\n",
    "set2 = {('K', 11), ('B', 10), ('N', 10)}\n",
    "joinedSet = {(t1[0], t1[1], t2[1]) for t1 in set1 for t2 in set2 if (t1[0] == t2[0])}\n",
    "print(\"friend joined set:\", joinedSet)"
   ]
  },
  {
   "cell_type": "markdown",
   "metadata": {},
   "source": [
    "**Credits**\n",
    "This notebook has been built from the [Deep Learning](https://deeplearning.cs.cmu.edu/F22/index.html) course at CMU "
   ]
  },
  {
   "cell_type": "code",
   "execution_count": null,
   "metadata": {},
   "outputs": [],
   "source": []
  }
 ],
 "metadata": {
  "colab": {
   "collapsed_sections": [],
   "name": "Recitation0A_Python_Fundamentals.ipynb",
   "provenance": [],
   "toc_visible": true
  },
  "kernelspec": {
   "display_name": "Python 3 (ipykernel)",
   "language": "python",
   "name": "python3"
  },
  "language_info": {
   "codemirror_mode": {
    "name": "ipython",
    "version": 3
   },
   "file_extension": ".py",
   "mimetype": "text/x-python",
   "name": "python",
   "nbconvert_exporter": "python",
   "pygments_lexer": "ipython3",
   "version": "3.9.7"
  }
 },
 "nbformat": 4,
 "nbformat_minor": 4
}
