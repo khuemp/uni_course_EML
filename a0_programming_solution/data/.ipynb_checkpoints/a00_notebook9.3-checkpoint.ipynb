{
 "cells": [
  {
   "cell_type": "code",
   "execution_count": null,
   "id": "e5ba236e-ab9b-4789-9bcd-b62ba8d492b8",
   "metadata": {},
   "outputs": [],
   "source": [
    "import numpy as np\n",
    "import matplotlib.pyplot as plt\n",
    "%matplotlib inline\n",
    "\n",
    "import warnings\n",
    "warnings.filterwarnings(\"ignore\")"
   ]
  },
  {
   "cell_type": "markdown",
   "id": "c9573715-0e3c-4552-9e1c-4a8d0a166521",
   "metadata": {},
   "source": [
    "# Basics of NumPy: Matrix operations\n",
    "NumPy docs: https://numpy.org/doc/stable/reference/index.html\n",
    "\n",
    "This notebook aims to show you the basics of NumPy as it will form the backbone of your coding assignments in EML. It will also introduce you to Matplotlib, a package which allows you (if you haven't guessed already) to plot graphs and visualize the data you will be working with."
   ]
  },
  {
   "cell_type": "markdown",
   "id": "5a87f18d-b666-4a0d-bd7c-eb37eb8346cf",
   "metadata": {},
   "source": [
    "### 1. Define numpy arrays\n",
    "\n",
    "- To start with, we first look at defining arrays in NumPy.\n",
    "- Once an array is defined, you can use the attributes 'shape' and 'ndim' to see the shape of the array and the number of dimensions respectively."
   ]
  },
  {
   "cell_type": "code",
   "execution_count": null,
   "id": "620e90c1-d29f-418f-b6b0-37de5490974d",
   "metadata": {},
   "outputs": [],
   "source": [
    "scalar = np.array(2) \n",
    "print(\"scaler: \",  scalar)\n",
    "print(\"scalar.shape: \", scalar.shape)\n",
    "print(\"scalar.ndim: \", scalar.ndim)\n",
    "\n",
    "row_vector_A = np.array([1.0, 2.0, 3.0])\n",
    "print(\"row_vector_A: \", row_vector_A)\n",
    "print(\"row_vector_A.shape: \", row_vector_A.shape)\n",
    "print(\"row_vector_A.ndim: \", row_vector_A.ndim)\n",
    "\n",
    "row_vector_B = np.array([[1.0, 2.0, 3.0]])\n",
    "print(\"row_vector_B: \", row_vector_B)\n",
    "print(\"row_vector_B.shape: \", row_vector_B.shape)\n",
    "print(\"row_vector_B.ndim: \", row_vector_B.ndim)\n",
    "\n",
    "column_vector_A = np.array([[1.0, 2.0, 3.0]])\n",
    "print(\"column_vector_A: \", row_vector_B.T)\n",
    "print(\"column_vector_A.shape: \", row_vector_B.T.shape)\n",
    "print(\"column_vector_A.ndim: \", row_vector_B.T.ndim)\n",
    "\n",
    "column_vector_B = np.array([\n",
    "    [1.0],\n",
    "    [2.0],\n",
    "    [3.0]\n",
    "])\n",
    "print(\"column_vector_B: \", column_vector_B)\n",
    "print(\"column_vector_B.shape: \", column_vector_B.shape)\n",
    "print(\"column_vector_B.ndim: \", column_vector_B.ndim)\n",
    "\n",
    "matrix_A = np.array([\n",
    "    [0.0, 0.0, 0.0],\n",
    "    [10.0, 10.0, 10.0],\n",
    "    [20.0, 20.0, 20.0],\n",
    "    [30.0, 30.0, 30.0]\n",
    "])\n",
    "\n",
    "print(\"matrix_A: \", matrix_A)\n",
    "print(\"matrix_A has type \", type(matrix_A))\n",
    "print(\"matrix_A.shape: \", matrix_A.shape)\n",
    "print(\"matrix_A.dim: \", matrix_A.ndim)\n",
    "\n",
    "matrix_B = np.array([\n",
    "    [1, 2, 3],\n",
    "    [4, 5, 6]\n",
    "])\n",
    "\n",
    "print(\"matrix_B: \", matrix_B)\n",
    "print(\"matrix_B.shape: \", matrix_B.shape)\n",
    "print(\"matrix_B.ndim: \", matrix_B.ndim)\n",
    "\n",
    "matrix_C = np.array([\n",
    "    [1, 4, 5, 12],\n",
    "    [-5, 8, 9, 0],\n",
    "    [-6, 7, 11, 19]\n",
    "])\n",
    "\n",
    "print(\"matrix_C: \", matrix_C)\n",
    "print(\"matrix_C.shape: \", matrix_C.shape)\n",
    "print(\"matrix_C.ndim: \", matrix_C.ndim)\n",
    "\n",
    "tensor_A = np.array([\n",
    "    [\n",
    "        [1.0, 3.0],\n",
    "        [2.0, 4.0],\n",
    "        [3.0, 5.0]\n",
    "    ]\n",
    "])\n",
    "\n",
    "print(\"tensor_A: \", tensor_A)\n",
    "print(\"tensor_A.shape: \", tensor_A.shape)\n",
    "print(\"tensor_A.ndim: \", tensor_A.ndim)"
   ]
  },
  {
   "cell_type": "markdown",
   "id": "b35a7277-be15-463c-b732-0fc803a6fe1b",
   "metadata": {},
   "source": [
    "### 2. Access to matrix\n",
    "\n",
    "- Arrays can be indexed in multiple ways to access individual elements or slices from the array"
   ]
  },
  {
   "cell_type": "code",
   "execution_count": null,
   "id": "397dd07c-475f-461c-9946-b07503674434",
   "metadata": {},
   "outputs": [],
   "source": [
    "print(\"matrix_C.shape:\", matrix_C.shape)\n",
    "print(\"Access to elements: matrix_C[0, 2] = \", matrix_C[0, 2]) # Row 0, Column 2\n",
    "      \n",
    "print(\"Access to rows\")\n",
    "print(\"matrix_C[0] =\", matrix_C[0]) # First Row\n",
    "print(\"matrix_C[2] =\", matrix_C[2]) # Third Row\n",
    "print(\"matrix_C[-1] =\", matrix_C[-1]) # Last Row (3rd row in this case) \n",
    "\n",
    "print(\"Access to columns\")\n",
    "print(\"matrix_C[:, 0] =\", matrix_C[:, 0]) # First Column\n",
    "print(\"matrix_C[:, 3] =\", matrix_C[:, 2]) # Third Column\n",
    "print(\"matrix_C[:, -1] =\", matrix_C[:, -1]) # Last Column (4th column in this case)"
   ]
  },
  {
   "cell_type": "markdown",
   "id": "363ccaf0",
   "metadata": {},
   "source": [
    "### 3. Matrix Transpose"
   ]
  },
  {
   "cell_type": "code",
   "execution_count": null,
   "id": "804f87fd",
   "metadata": {},
   "outputs": [],
   "source": [
    "D = np.array([\n",
    "    [1, 4, 5, 12],\n",
    "    [-5, 8, 9, 0],\n",
    "    [-6, 7, 11, 19]\n",
    "])\n",
    "\n",
    "print(\"D = \\n\", D)\n",
    "print(\"D.shape:\", D.shape)\n",
    "print(\"D.T = \\n\", D.T)\n",
    "print(\"D.T.shape:\", D.T.shape)"
   ]
  },
  {
   "cell_type": "markdown",
   "id": "0301becb-dc81-4c21-8f52-988ed2eaea5f",
   "metadata": {},
   "source": [
    "### 4. Slicing matrix"
   ]
  },
  {
   "cell_type": "code",
   "execution_count": null,
   "id": "6b5c33a3-00db-4556-b7c5-1d8fa2c1508e",
   "metadata": {},
   "outputs": [],
   "source": [
    "D = np.array([\n",
    "    [1, 4, 5, 12, 14],\n",
    "    [-5, 8, 9, 0, 17],\n",
    "    [-6, 7, 11, 19, 21]\n",
    "])\n",
    "print(\"D.shape:\", D.shape, \"\\n\")\n",
    "\n",
    "print(\"first two rows: \", D[0:2], \"\\n\") \n",
    "print(\"first two rows and first four columns: \", D[0:2, 0:4], \"\\n\") \n",
    "print(\"all rows and third column:\", D[:, 2], \"\\n\")\n",
    "print(\"all rows, third to the fifth column:\", D[:, 2:5])"
   ]
  },
  {
   "cell_type": "markdown",
   "id": "7bc24a4d",
   "metadata": {},
   "source": [
    "### 5a. Matrix operations: scalar multiplication"
   ]
  },
  {
   "cell_type": "code",
   "execution_count": null,
   "id": "8a1b0914",
   "metadata": {},
   "outputs": [],
   "source": [
    "scalar_1 = np.array(2)\n",
    "scalar_2 = np.array(4)\n",
    "\n",
    "print(\"scalar_1:\\n\", scalar_1, \"\\n\")\n",
    "print(\"scalar_2:\\n\", scalar_2, \"\\n\")\n",
    "\n",
    "matrix_B_plus_scalar_1 = matrix_B*scalar_1\n",
    "print(\"matrix_B:\\n\", matrix_B, \"\\n\")\n",
    "print(\"matrix_B.shape\", matrix_B.shape, \"\\n\")\n",
    "print(\"matrix_B_plus_scalar_1:\\n\", matrix_B_plus_scalar_1, \"\\n\")\n",
    "print(\"matrix_B_plus_scalar_1.shape\", matrix_B_plus_scalar_1.shape, \"\\n\")"
   ]
  },
  {
   "cell_type": "markdown",
   "id": "19ab57c7",
   "metadata": {},
   "source": [
    "### 5b. Matrix operations: linear combination"
   ]
  },
  {
   "cell_type": "code",
   "execution_count": null,
   "id": "06dbd596",
   "metadata": {},
   "outputs": [],
   "source": [
    "print(\"--Linear combination of vectors with scalar coefficients:--\")\n",
    "print(\"row_vector_A:\\n\", row_vector_A, \"\\n\")\n",
    "print(\"row_vector_B:\\n\", row_vector_B, \"\\n\")\n",
    "row_vector_C = (scalar_1*row_vector_A) + (scalar_2*row_vector_B)\n",
    "print(\"row_vector_C = (scalar_1*row_vector_A) + (scalar_2*row_vector_B):\\n\", row_vector_C, \"\\n\")"
   ]
  },
  {
   "cell_type": "markdown",
   "id": "820525c0",
   "metadata": {},
   "source": [
    "### 5c. Matrix operation: dot product"
   ]
  },
  {
   "cell_type": "code",
   "execution_count": null,
   "id": "575cf845",
   "metadata": {},
   "outputs": [],
   "source": [
    "print(\"matrix_A:\\n\", matrix_A)\n",
    "print(\"matrix_C:\\n\", matrix_C)\n",
    "AC = matrix_A @ matrix_C\n",
    "CA = np.dot(matrix_C, matrix_A)\n",
    "print(\"matrix_A.shape:\", matrix_A.shape)\n",
    "print(\"matrix_C.shape:\", matrix_C.shape)\n",
    "print(\"AC:\\n\", AC)\n",
    "print(\"AC.shape:\", AC.shape)\n",
    "print(\"CA:\\n\", CA)\n",
    "print(\"CA.shape:\", CA.shape)"
   ]
  },
  {
   "attachments": {
    "image.png": {
     "image/png": "[encoded data removed]"
    }
   },
   "cell_type": "markdown",
   "id": "2b120544",
   "metadata": {},
   "source": [
    "### 6. Broadcasting\n",
    "![image.png](attachment:image.png)\n",
    "ref: https://numpy.org/doc/stable/user/basics.broadcasting.html\n",
    "- Broadcasting is a powerful tool that allows vectorizing mathematical operations. "
   ]
  },
  {
   "cell_type": "code",
   "execution_count": null,
   "id": "69592c66",
   "metadata": {},
   "outputs": [],
   "source": [
    "print(\"row_vector_A:\", row_vector_A), \n",
    "print(\"scalar_1:\", scalar_1)\n",
    "# scalar_1 is broadcasted (\"copied\" or stretched) along the `row_vector_A`'s \n",
    "# dimension to become an array of the same shape as `row_vector_A` \n",
    "# as illustrated in the above mdiagram\n",
    "print(\"row_vector_A*scalar_1:\\n\", row_vector_A*scalar_1) "
   ]
  },
  {
   "attachments": {
    "image.png": {
     "image/png": "[encoded data removed]"
    }
   },
   "cell_type": "markdown",
   "id": "18103591",
   "metadata": {},
   "source": [
    "![image.png](attachment:image.png)\n",
    "ref: https://numpy.org/doc/stable/user/basics.broadcasting.html"
   ]
  },
  {
   "cell_type": "code",
   "execution_count": null,
   "id": "62cb91cc",
   "metadata": {},
   "outputs": [],
   "source": [
    "print(\"matrix_A:\\n\", matrix_A), \n",
    "print(\"row_vector_B:\", row_vector_B, \"\\n\")\n",
    "# row_vector_B is broadcasted (\"copied\" or stretched) along the `matrix_A`'s \n",
    "# dimensions to become an array of the same shape as `matrix_A`\n",
    "# as illustrated in the above diagram\n",
    "print(\"matrix_A+row_vector_B:\\n\", matrix_A+row_vector_B)"
   ]
  },
  {
   "cell_type": "markdown",
   "id": "c6e9b2b3-419f-412b-be6c-c08ed00f4ef8",
   "metadata": {},
   "source": [
    "### 7.Comparision"
   ]
  },
  {
   "cell_type": "code",
   "execution_count": null,
   "id": "4bc3d36d-46dd-4bb2-8315-e53d274f0cac",
   "metadata": {},
   "outputs": [],
   "source": [
    "rand_arr_1 = np.random.rand(2,3)\n",
    "print('random array1: \\n', rand_arr_1, '\\n')\n",
    "rand_arr_2 = np.random.rand(2,3)\n",
    "print('random array2: \\n', rand_arr_2, '\\n')\n",
    "\n",
    "# Element-wise Comparison Operations\n",
    "greater_compare = rand_arr_1 > rand_arr_2\n",
    "print('random array1 > random array2')\n",
    "print(greater_compare, '\\n')\n",
    "\n",
    "less_compare = rand_arr_1 < rand_arr_2\n",
    "print('random array1 < random array2')\n",
    "print(less_compare, '\\n')\n",
    "\n",
    "not_equal_compare = rand_arr_1 != rand_arr_2\n",
    "print('random array1 != random array2')\n",
    "print(not_equal_compare, '\\n')\n",
    "\n",
    "# Combining reduction operations with boolean arrays\n",
    "print(\"any values for random array1 > random array2:\")\n",
    "print((rand_arr_1 > rand_arr_2).any(), \"\\n\")\n",
    "\n",
    "print(\"all values for random array1 > random array2:\")\n",
    "print((rand_arr_1 > rand_arr_2).all(), \"\\n\")\n",
    "\n",
    "print(\"any values along first axis for random array1 > random array2:\")\n",
    "print((rand_arr_1 > rand_arr_2).any(axis=0), \"\\n\")\n",
    "\n",
    "print(\"any values along second axis for random array1 > random array2:\")\n",
    "print((rand_arr_1 > rand_arr_2).any(axis=1), \"\\n\")\n",
    "\n",
    "print(\"any values for random array1 != random array2:\")\n",
    "print((rand_arr_1 != rand_arr_2).any(), \"\\n\")\n",
    "\n",
    "print(\"all values for random array1 != random array2:\")\n",
    "print((rand_arr_1 != rand_arr_2).all(), \"\\n\")"
   ]
  },
  {
   "cell_type": "markdown",
   "id": "12ee8237-9a1b-4472-9329-a0ae8610dc34",
   "metadata": {},
   "source": [
    "### 8. Matrix Operations"
   ]
  },
  {
   "cell_type": "code",
   "execution_count": null,
   "id": "51089f8e-6c63-4009-bfec-30c87e41c943",
   "metadata": {},
   "outputs": [],
   "source": [
    "# Vector x Vector\n",
    "array1 = np.random.randn(3)\n",
    "array2 = np.random.randn(3)\n",
    "\n",
    "print('Array1 \\n', array1, 'with dimension ', array1.shape, '\\n')\n",
    "print('Array2 \\n', array2, 'with dimension ', array2.shape, '\\n')\n",
    "\n",
    "matmul_arr = np.matmul(array1, array2)\n",
    "another_arr = array1@array2\n",
    "print('Matmul of the two arrays can be derived by using np.matmul(array1, array2) \\n', matmul_arr)\n",
    "print(\"Matmul of the two arrays can also be derived by using array1@array2 \\n\", another_arr)\n",
    "print('Dimensions of resulting product: \\n', matmul_arr.shape)\n",
    "\n",
    "# Matrix x Vector\n",
    "array3 = np.random.randn(3, 4)\n",
    "array4 = np.random.randn(4)\n",
    "\n",
    "print('Array3 \\n', array3, 'with dimension ', array3.shape, '\\n')\n",
    "print('Array4 \\n', array4, 'with dimension ', array4.shape, '\\n')\n",
    "\n",
    "matmul_arr = np.matmul(array3, array4)\n",
    "another_arr = array3@array4\n",
    "print('Matmul of a vector and a matrix can be derived by using np.matmul(array3, array4) \\n', matmul_arr)\n",
    "print('Matmul of a vector and a matrix can also be derived by using array3@array4 \\n', another_arr)\n",
    "print('Dimensions of resulting product: \\n', matmul_arr.shape)\n",
    "\n",
    "# Matrix x Matrix \n",
    "\n",
    "matrix1 = np.random.randint(4, size = (2, 3))\n",
    "matrix2 = np.random.randint(4, size = (3, 2))\n",
    "\n",
    "print('Matrix1 \\n', matrix1, 'with dimension ', matrix1.shape, '\\n')\n",
    "print('Matrix2 \\n', matrix2, 'with dimension ', matrix2.shape, '\\n')\n",
    "\n",
    "matmul_mat = np.matmul(matrix1, matrix2)\n",
    "print('Matmul of two matrices can be derived by using np.matmul(matrix1, matrix2) \\n', matmul_mat)\n",
    "print('Dimensions of resulting product: \\n', matmul_mat.shape, \"\\n\")"
   ]
  },
  {
   "cell_type": "code",
   "execution_count": null,
   "id": "0d239cbb-b6a0-4936-946d-eb00bebf5e38",
   "metadata": {},
   "outputs": [],
   "source": [
    "rand_mat_1 = np.random.rand(4,2)\n",
    "rand_mat_2 = np.random.rand(2,3)\n",
    "print('Matrix1 \\n', rand_mat_1, 'with dimension ', rand_mat_1.shape, '\\n')\n",
    "print('Matrix2 \\n', rand_mat_2, 'with dimension ', rand_mat_2.shape, '\\n')\n",
    "\n",
    "# dot product\n",
    "dot_mat = np.dot(rand_mat_1, rand_mat_2)\n",
    "another_mat = rand_mat_1@rand_mat_2\n",
    "print('Dot product of two matrices can be derived by using np.dot(mat1, mat2) \\n', dot_mat)\n",
    "print('Dot product of two matrices can also be derived by using mat1@mat2 \\n', another_mat)\n",
    "print('Dimensions of resulting product: \\n', dot_mat.shape)\n",
    "\n",
    "a = np.ones([9, 5, 7, 4])\n",
    "b = np.ones([9, 5, 4, 3])\n",
    "print('array1 \\'s dimension ', a.shape, '\\n')\n",
    "print('array2 \\'s dimension ', b.shape, '\\n')\n",
    "\n",
    "# matmul with multi-dimenstion arrays\n",
    "c = np.matmul(a,b)\n",
    "print('Matmul of two multi-dimension arrays can be derived by using np.matmul(array1, array2) \\n')\n",
    "print('Dimensions of resulting product: \\n', c.shape)"
   ]
  },
  {
   "cell_type": "markdown",
   "id": "0b6c4b17",
   "metadata": {},
   "source": [
    "# Plotting in Python using Matplotlib\n",
    "Ref: https://matplotlib.org/3.5.0/api/_as_gen/matplotlib.pyplot.plot.html\n",
    "\n",
    "- This Section introduces Matplotlib to visualize numpy arrays."
   ]
  },
  {
   "cell_type": "markdown",
   "id": "03b6a0ee",
   "metadata": {},
   "source": [
    "### 1. Line Plot"
   ]
  },
  {
   "cell_type": "code",
   "execution_count": null,
   "id": "a8e5a32e",
   "metadata": {},
   "outputs": [],
   "source": [
    "x = [1, 2, 3, 4]\n",
    "y = [1, 4, 9, 16]\n",
    "plt.plot(x, y)\n",
    "plt.ylabel(\"some numbers [y]\")\n",
    "plt.xlabel(\"some numbers [x]\")\n",
    "plt.title(\"list of numbers versus list of numbers\")\n",
    "plt.show()"
   ]
  },
  {
   "cell_type": "markdown",
   "id": "9c979fd9-30e0-4a4c-a2f9-9c82ab2770fa",
   "metadata": {},
   "source": [
    "-Different line styles and markers can be used to differentiate lines on the same figure."
   ]
  },
  {
   "cell_type": "code",
   "execution_count": null,
   "id": "e668c2cd",
   "metadata": {},
   "outputs": [],
   "source": [
    "x = np.arange(0., 5., 0.4) # [0 0.4 ... 4.4 4.8]\n",
    "\n",
    "# red dashes, blue squares and green triangles\n",
    "plt.plot(x, x, \"r-\", label=\"red dashes\")\n",
    "plt.plot(x, x**2, \"bs--\", label=\"blue squares\")\n",
    "plt.plot(x, x**3, \"g^\", label=\"green triangles\")\n",
    "plt.legend()\n",
    "plt.show()"
   ]
  },
  {
   "cell_type": "markdown",
   "id": "939a4c91",
   "metadata": {},
   "source": [
    "### 2. Plotting with categorical variables"
   ]
  },
  {
   "cell_type": "code",
   "execution_count": null,
   "id": "94ca92cd",
   "metadata": {},
   "outputs": [],
   "source": [
    "names = [\"group_a\", \"group_b\", \"group_c\"]\n",
    "values = [1, 10, 100]\n",
    "plt.plot(names, values)\n",
    "plt.show()"
   ]
  },
  {
   "cell_type": "markdown",
   "id": "1d78548c-5161-4933-8f27-c7a5156ddebb",
   "metadata": {},
   "source": [
    "**Scatter** A scatter plot shows the location of points on a 2D plane, often used to visualize data points in two dimensions."
   ]
  },
  {
   "cell_type": "code",
   "execution_count": null,
   "id": "85134318",
   "metadata": {},
   "outputs": [],
   "source": [
    "plt.scatter(names, values)\n",
    "plt.show()"
   ]
  },
  {
   "cell_type": "code",
   "execution_count": null,
   "id": "f36c01c0",
   "metadata": {},
   "outputs": [],
   "source": [
    "plt.bar(names, values)\n",
    "plt.show()"
   ]
  },
  {
   "cell_type": "markdown",
   "id": "c48e9db9",
   "metadata": {},
   "source": [
    "### 3. Multiple axes"
   ]
  },
  {
   "cell_type": "code",
   "execution_count": null,
   "id": "98384b91",
   "metadata": {},
   "outputs": [],
   "source": [
    "def f(t):\n",
    "    return np.exp(-t) * np.cos(2*np.pi*t)\n",
    "\n",
    "t = np.arange(0.0, 5.0, 0.1) # [0.0 0.1 ... 4.8 4.9]\n",
    "\n",
    "plt.figure(figsize=(10, 5), )\n",
    "\n",
    "plt.subplot(2, 1, 1)\n",
    "plt.plot(t, f(t), \"bo-\", label=\"$f(t)=e^{-t}cos(2 \\pi t)$\")\n",
    "plt.legend()\n",
    "\n",
    "plt.subplot(2, 1, 2)\n",
    "plt.plot(t, np.cos(2*np.pi*t), \"r--\", label=\"$cos(2 \\pi t)$\")\n",
    "plt.xlabel(\"t\")\n",
    "plt.legend()"
   ]
  },
  {
   "cell_type": "code",
   "execution_count": null,
   "id": "b223b135",
   "metadata": {},
   "outputs": [],
   "source": [
    "plt.figure(figsize=(25, 5))\n",
    "\n",
    "plt.subplot(1, 2, 1)\n",
    "plt.plot(t, f(t), \"bo-\")\n",
    "\n",
    "plt.subplot(1, 2, 2)\n",
    "plt.plot(t, np.cos(2*np.pi*t), \"r--\")\n",
    "plt.show()"
   ]
  },
  {
   "cell_type": "markdown",
   "id": "daa2c16a",
   "metadata": {},
   "source": [
    "$gaussian=\\frac{1}{\\sqrt{2 \\pi \\sigma^2}} e^-\\frac{(x-\\mu)^2}{2\\sigma^2}$"
   ]
  },
  {
   "cell_type": "code",
   "execution_count": null,
   "id": "343b5ba4",
   "metadata": {},
   "outputs": [],
   "source": [
    "def gaussian(x, mu, var):\n",
    "    first = 1 / np.sqrt(2 * np.pi * var)\n",
    "    second = np.exp(-0.5 * ((x-mu)**2) / var)\n",
    "    return first * second"
   ]
  },
  {
   "cell_type": "code",
   "execution_count": null,
   "id": "db66e268",
   "metadata": {},
   "outputs": [],
   "source": [
    "p = np.linspace(-4, 4, num=1000)\n",
    "plt.plot(p, gaussian(p, mu=1, var=1), c=\"b\", label=\"$\\mu=1,\\sigma^2=1$\")\n",
    "plt.plot(p, gaussian(p, mu=-1, var=1), c=\"g\", label=\"$\\mu=-1,\\sigma^2=1$\")\n",
    "plt.plot([0]*1000, gaussian(p, -1, 1), c=\"r\")\n",
    "plt.legend()\n",
    "plt.show()"
   ]
  },
  {
   "cell_type": "code",
   "execution_count": null,
   "id": "36ff6a65",
   "metadata": {},
   "outputs": [],
   "source": [
    "p = np.linspace(-8, 8, num=1000)\n",
    "plt.plot(p, gaussian(p, mu=2, var=1), c=\"b\", label=\"$\\mu=2,\\sigma^2=1$\")\n",
    "plt.plot(p, gaussian(p, mu=-1, var=1), c=\"g\", label=\"$\\mu=-1,\\sigma^2=1$\")\n",
    "plt.plot([0]*1000, gaussian(p, -1, 1), c=\"r\")\n",
    "plt.legend()\n",
    "plt.show()"
   ]
  },
  {
   "cell_type": "code",
   "execution_count": null,
   "id": "0e4b3fa3",
   "metadata": {},
   "outputs": [],
   "source": [
    "plt.hist(np.random.normal(loc=1.0, scale=1.0, size=1000), density=True, label=\"$\\mu=1,\\sigma=1$\");\n",
    "plt.hist(np.random.normal(loc=-1.0, scale=1.0, size=1000), density=True, label=\"$\\mu=-1,\\sigma=1$\");\n",
    "plt.legend();"
   ]
  },
  {
   "cell_type": "markdown",
   "id": "c3b751aa",
   "metadata": {},
   "source": [
    "### Sources\n",
    "\n",
    "1. https://github.com/ctgk/PRML\n",
    "2. https://www.programiz.com/python-programming/matrix\n",
    "3. https://numpy.org/doc/\n",
    "4. https://matplotlib.org/\n",
    "5. https://en.wikipedia.org/wiki/Mixture_distribution\n",
    "6. https://www.wikiwand.com/en/Central_limit_theorem\n",
    "7. Prof. Wolf's lecture notes (link on cms)\n",
    "\n",
    "### Credit\n",
    "This notebook was created by the EML tutors based on the work of the UdS ML21 / 22 tutors and the TAs for [Deep Learning](https://deeplearning.cs.cmu.edu/F22/index.html) at CMU."
   ]
  },
  {
   "cell_type": "markdown",
   "id": "fa323d45-d9c1-4031-9c1d-c993c0382101",
   "metadata": {},
   "source": [
    "# Advanced Data Manipulation\n",
    "We will also require more advanced data manipulation, as provided by the excellent <a href=\"https://pandas.pydata.org/\">pandas</a> package. This package is best covered elsewhere; see for instance \n",
    "<a href=\"https://tomaugspurger.github.io/modern-1-intro.html\">this pandas tutorial</a>."
   ]
  }
 ],
 "metadata": {
  "kernelspec": {
   "display_name": "Python 3 (ipykernel)",
   "language": "python",
   "name": "python3"
  },
  "language_info": {
   "codemirror_mode": {
    "name": "ipython",
    "version": 3
   },
   "file_extension": ".py",
   "mimetype": "text/x-python",
   "name": "python",
   "nbconvert_exporter": "python",
   "pygments_lexer": "ipython3",
   "version": "3.9.7"
  }
 },
 "nbformat": 4,
 "nbformat_minor": 5
}
