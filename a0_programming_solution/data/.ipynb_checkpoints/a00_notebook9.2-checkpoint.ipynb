{
 "cells": [
  {
   "cell_type": "markdown",
   "metadata": {},
   "source": [
    "# **Python Fundamentals**"
   ]
  },
  {
   "cell_type": "markdown",
   "metadata": {},
   "source": [
    "**Objective**\n",
    "\n",
    "- The goal of this notebook is to get familiar with the basic concepts of Python that will be used extensively in the (coding) assignments in this course.\n",
    "\n",
    "**Outline**\n",
    "1. Data Types\n",
    "1. Conditional statements and loops\n",
    "1. Saving and Loading Files"
   ]
  },
  {
   "cell_type": "markdown",
   "metadata": {},
   "source": [
    "## **1 Data Types**\n",
    "\n",
    "Built-in data types in Python include:\n",
    "1. Numeric types - int, float, complex\n",
    "1. Sequence types - list, tuple, range\n",
    "1. Set Type - set\n",
    "1. Mapping type - dict\n",
    "1. Text sequence type - str\n",
    "\n",
    ".... and many others\n",
    "\n",
    "Reference: [Python Official Documentation](https://docs.python.org/3/library/stdtypes.html)"
   ]
  },
  {
   "cell_type": "markdown",
   "metadata": {},
   "source": [
    "### **1.1 Numeric types**"
   ]
  },
  {
   "cell_type": "markdown",
   "metadata": {},
   "source": [
    "#### **int**\n",
    "Int corresponds to integers and it is generally not used while training models since weights and biases have to be precise and not approximations"
   ]
  },
  {
   "cell_type": "code",
   "execution_count": null,
   "metadata": {},
   "outputs": [],
   "source": [
    "# assigning an int value to a variable\n",
    "\n",
    "intVar = 1\n",
    "\n",
    "# converting float to int\n",
    "\n",
    "floatVar = 2.5\n",
    "convVar = int(floatVar)\n",
    "\n",
    "print(\"Integer equivalent of float number: \"+str(convVar))\n",
    "print(\"Note: int function floors the decimal/ float value\")\n",
    "print(\"You can do various mathematical operations with int variables such as addition(+), subtraction (-), division (/), multiplication (*), floored quotient (//), remainder (%), etc.\")\n",
    "print(\"You can try these yourselves as an exercise\")"
   ]
  },
  {
   "cell_type": "markdown",
   "metadata": {},
   "source": [
    "#### **float**\n",
    "\n",
    "Float corresponds to floating point numbers which can be of different precisions ex. float16, float32 etc."
   ]
  },
  {
   "cell_type": "code",
   "execution_count": null,
   "metadata": {},
   "outputs": [],
   "source": [
    "# basics\n",
    "\n",
    "floatNum = 7.5\n",
    "\n",
    "# remember: any artihmetic operation between int and float makes the result a float\n",
    "\n",
    "result = 15/floatNum\n",
    "print(\"The result of dividing 15 by 7.5 is: \"+str(result))\n",
    "\n",
    "# converting from float64 to float32\n",
    "# Note: this can be useful when higher precision is not required and reducing precision decreases training time\n",
    "# More important note: Reducing precision also reduces accuracy (:\n",
    "\n",
    "# don't worry if you aren't familiar with the below code, Numpy will be covered in another recitation\n",
    "import numpy as np\n",
    "import math\n",
    "\n",
    "f64 = np.zeros(10,dtype=\"float64\") \n",
    "print(f64.dtype) # use dtype to find the type of an array/ column in df\n",
    "print(type(f64[0]))\n",
    "f32 = np.float32(f64)\n",
    "print(f32.dtype)\n",
    "print(type(f32[0]))\n",
    "\n",
    "# some additional operations with float type\n",
    "\n",
    "print('-'*194)\n",
    "# rounding numbers\n",
    "fNum = 7.336\n",
    "rfNum = round(fNum)\n",
    "rf_2 = round(fNum,2)\n",
    "print(\"Original number is: \"+str(fNum))\n",
    "print(\"Rounded float number is: \"+str(rfNum))\n",
    "print(\"Number rounded upto 2 decimals is: \"+str(rf_2))\n",
    "\n",
    "# floor and ceiling\n",
    "floorNum = math.floor(fNum)\n",
    "ceilNum = math.ceil(fNum)\n",
    "print(\"Result after floor operation: \"+str(floorNum))\n",
    "print(\"Result after ceiling operation: \"+str(ceilNum))"
   ]
  },
  {
   "cell_type": "markdown",
   "metadata": {},
   "source": [
    "### **1.2 Sequence types**"
   ]
  },
  {
   "cell_type": "markdown",
   "metadata": {},
   "source": [
    "#### **Lists**\n",
    "\n",
    "Lists are mutable sequences that are mostly used to store items of the same type but they can also store heterogenous items.\n",
    "\n",
    "List items can store duplicate values and the items can be indexed (zero-indexed)"
   ]
  },
  {
   "cell_type": "code",
   "execution_count": null,
   "metadata": {},
   "outputs": [],
   "source": [
    "# Construction using square brackets\n",
    "similar_items = [1, 2, 3, 4, 5, 5]\n",
    "different_items = [1, 2, 3, 'a', 'a', 'b']\n",
    "\n",
    "# print list items\n",
    "print(similar_items)\n",
    "print(different_items)\n",
    "\n",
    "# get item at index 4\n",
    "print(similar_items[4])\n",
    "print(different_items[4])"
   ]
  },
  {
   "cell_type": "code",
   "execution_count": null,
   "metadata": {},
   "outputs": [],
   "source": [
    "# Construction using list comprehension\n",
    "first_five = [i for i in range(5)]\n",
    "print(first_five)\n",
    "\n",
    "last_five = [i for i in range(5, 10)]\n",
    "print(last_five)\n",
    "\n",
    "# append lists\n",
    "all_data = first_five + last_five\n",
    "print(all_data)\n"
   ]
  },
  {
   "cell_type": "markdown",
   "metadata": {},
   "source": [
    "#### **Tuples**\n",
    "\n",
    "Tuple are ordered and unchangeable/immutable (**new items can't be added to it**). \n",
    "\n",
    "Tuples can store duplicate items. \n",
    "\n"
   ]
  },
  {
   "cell_type": "code",
   "execution_count": null,
   "metadata": {},
   "outputs": [],
   "source": [
    "similar_items = (1, 2, 3)\n",
    "different_items = (1, 2, 3, \"four\")\n",
    "\n",
    "print(similar_items)\n",
    "print(different_items)\n",
    "\n",
    "# indexing is similar to lists\n",
    "\n",
    "print(similar_items[0])\n",
    "print(different_items[-2]) # negative indexing starts from the end of the list/ tuple"
   ]
  },
  {
   "cell_type": "markdown",
   "metadata": {},
   "source": [
    "#### **Range**\n",
    "\n",
    "Range is a very important function for iteration and it is immutable"
   ]
  },
  {
   "cell_type": "code",
   "execution_count": null,
   "metadata": {},
   "outputs": [],
   "source": [
    "# simple range iterator\n",
    "\n",
    "print(\"Range with stop number and default step\")\n",
    "print(list(range(10)))\n",
    "print(\"Note: The iterator does not stop at the number specified\")\n",
    "\n",
    "print(\"Range with start, stop and step 2\")\n",
    "print(list(range(0,12,2)))\n",
    "\n",
    "print(\"Reverse direction with negative step size\")\n",
    "print(list(range(10,0,-2)))"
   ]
  },
  {
   "cell_type": "markdown",
   "metadata": {},
   "source": [
    "### **1.3 Set types**\n",
    "\n",
    "Sets are mutable and they store unordered and unindexed data.\n",
    "\n",
    "They can not store duplicate items.\n"
   ]
  },
  {
   "cell_type": "code",
   "execution_count": null,
   "metadata": {},
   "outputs": [],
   "source": [
    "set1 = {1, 2, 3, 1, 2}\n",
    "print(set1)\n",
    "\n",
    "set2 = {'one', 'two', 'three', 'one', 'two'}\n",
    "print(set2)"
   ]
  },
  {
   "cell_type": "markdown",
   "metadata": {},
   "source": [
    "### **1.4 Mapping type**\n",
    "\n"
   ]
  },
  {
   "cell_type": "markdown",
   "metadata": {},
   "source": [
    "#### **Dictionary**\n",
    "\n",
    "Stores items in key-value pairs. Keys must be unique, hence duplicates can't be stored.\n",
    "\n",
    "From Python 3.7 dictionary items are ordered."
   ]
  },
  {
   "cell_type": "markdown",
   "metadata": {},
   "source": [
    "**Different ways of constructing dictionaries**"
   ]
  },
  {
   "cell_type": "code",
   "execution_count": null,
   "metadata": {},
   "outputs": [],
   "source": [
    "# comma-separated key-value pairs\n",
    "dict1 = {'one': 1, 'two': 2, 'three': 3}\n",
    "print(dict1)\n",
    "\n",
    "dict2 = dict(one=1, two=2, three=3)\n",
    "print(dict2)\n",
    "\n",
    "# using zip function\n",
    "dict3 = dict(zip(['one', 'two', 'three'], [1, 2, 3]))\n",
    "print(dict3)\n",
    "\n",
    "# using tuples in a list\n",
    "dict4 = dict([('one', 1), ('two', 2), ('three', 3)])\n",
    "print(dict4)"
   ]
  },
  {
   "cell_type": "markdown",
   "metadata": {},
   "source": [
    "**Dictionary operations**"
   ]
  },
  {
   "cell_type": "code",
   "execution_count": null,
   "metadata": {},
   "outputs": [],
   "source": [
    "# get item\n",
    "print('Different ways of getting items ie indexing a dictionary')\n",
    "\n",
    "print(dict1['one'])\n",
    "print(dict1.get('one'))\n",
    "print(dict1.get(\"four\", \"number 4 does not exist\"))\n",
    "\n",
    "# save new item\n",
    "print('Store new item')\n",
    "\n",
    "dict1['four'] = 4\n",
    "print(dict1)\n",
    "print(dict1.get(\"four\", \"number 4 does not exist\"))\n"
   ]
  },
  {
   "cell_type": "markdown",
   "metadata": {},
   "source": [
    "## **2 Conditional statements and loops**"
   ]
  },
  {
   "cell_type": "markdown",
   "metadata": {},
   "source": [
    "### **2. 1 Conditional statements**\n",
    "\n",
    "They enable you to perform specific actions based on the boolean value returned by a condition\n",
    "\n",
    "They can be implemented using if-statements"
   ]
  },
  {
   "cell_type": "markdown",
   "metadata": {},
   "source": [
    "**If statements**"
   ]
  },
  {
   "cell_type": "code",
   "execution_count": null,
   "metadata": {},
   "outputs": [],
   "source": [
    "x, y = 1, 2\n",
    "\n",
    "if x > y:\n",
    "  print('x is greater than y')\n",
    "elif x < y:\n",
    "  print(' x is less than y')\n",
    "else:\n",
    "  print('x is equal than y')"
   ]
  },
  {
   "cell_type": "markdown",
   "metadata": {},
   "source": [
    "### **2.2 Loops**\n",
    "\n",
    "Loops are helpful when you need to iterate over a sequence. A sequence can be a list, a tuple, a dictionary, a set or even a range of numbers.\n",
    "\n",
    "They can be implemented using for or while loops\n",
    "\n"
   ]
  },
  {
   "cell_type": "code",
   "execution_count": null,
   "metadata": {},
   "outputs": [],
   "source": [
    "# Iterate through a sequence\n",
    "\n",
    "numbers = ['one', 'two', 'three', 'four', 'five']\n",
    "\n",
    "for n in numbers:\n",
    "  print(n)\n"
   ]
  },
  {
   "cell_type": "code",
   "execution_count": null,
   "metadata": {},
   "outputs": [],
   "source": [
    "# Iterate through a range of numbers\n",
    "\n",
    "print('Iterate through numbers 0-4')\n",
    "for i in range(5):\n",
    "  print(i)\n",
    "\n",
    "print('Iterate through numbers 1-5')\n",
    "for i in range(1, 6):\n",
    "  print(i)"
   ]
  },
  {
   "cell_type": "markdown",
   "metadata": {},
   "source": [
    "**While loop**\n",
    "\n",
    "Used to iterate through statements as long as the condition being checked is true"
   ]
  },
  {
   "cell_type": "code",
   "execution_count": null,
   "metadata": {},
   "outputs": [],
   "source": [
    "x = 0\n",
    "\n",
    "while x < 10:\n",
    "  x = x + 2\n",
    "  print(x)\n",
    "\n",
    "print('Final value is ', x)"
   ]
  },
  {
   "cell_type": "markdown",
   "metadata": {},
   "source": [
    "## **3. Saving and Loading Files**"
   ]
  },
  {
   "cell_type": "markdown",
   "metadata": {},
   "source": [
    "### **3.1 Save Data to CSV**"
   ]
  },
  {
   "cell_type": "code",
   "execution_count": null,
   "metadata": {},
   "outputs": [],
   "source": [
    "# Method 1\n",
    "\n",
    "import csv\n",
    "\n",
    "fields = ['No', 'Name']\n",
    "  \n",
    "students = [\n",
    "{'No': 1, 'Name': 'Jane Doe'},\n",
    "{'No': 2, 'Name': 'John Doe'},\n",
    "]\n",
    "\n",
    "with open('students.csv', 'w') as csv_file:\n",
    "  writer = csv.DictWriter(csv_file, fieldnames = fields)\n",
    "  writer.writeheader()\n",
    "  writer.writerows(students)\n",
    "\n",
    "# Method 2: Save dictionary as csv using pandas\n",
    "\n",
    "import pandas as pd\n",
    "\n",
    "studentDict = {'No': [1,2,3],\n",
    "               'Name': ['Sheila Mbadi', 'Jane Doe', 'John Doe']}\n",
    "\n",
    "studentDf = pd.DataFrame(studentDict)\n",
    "studentDf.to_csv('students_2.csv', index=None) "
   ]
  },
  {
   "cell_type": "markdown",
   "metadata": {},
   "source": [
    "### **3.2 Load CSV Data**\n",
    "\n",
    "- Load the values of a csv file in Python"
   ]
  },
  {
   "cell_type": "code",
   "execution_count": null,
   "metadata": {},
   "outputs": [],
   "source": [
    "import pandas as pd\n",
    "\n",
    "data = pd.read_csv('students.csv')\n",
    "data"
   ]
  },
  {
   "cell_type": "markdown",
   "metadata": {},
   "source": [
    "## **4. Comprehension**\n",
    "\n",
    "Comprehension is set/list builder notation is can be useful in Python to write compact and clean code.\n",
    "\n",
    "The general structure of comprehension is\n",
    "\n",
    "![comprehension](https://4.bp.blogspot.com/-uRPZqKbIGwQ/XRtgWhC6qqI/AAAAAAAAH0w/--oGnwKsnpo00GwQgH2gV3RPwHwK8uONgCLcBGAs/s1600/comprehension.PNG)"
   ]
  },
  {
   "cell_type": "code",
   "execution_count": null,
   "metadata": {},
   "outputs": [],
   "source": [
    "#Set Comprehension\n",
    "set_1 = {x for x in range(6)}\n",
    "print(\"a set of number from 0 to 5:\", set_1)\n",
    "set_2 = {x**2 for x in range(6) if x % 2 == 0}\n",
    "print(\"a set of squares of even number from 0 to 5:\", set_2, \"\\n\")\n",
    "\n",
    "#List comprehension\n",
    "list_1 = [x for x in range(6)]\n",
    "print(\"a list of number from 0 to 5:\", set_1)\n",
    "set_2 = [x**2 for x in range(6) if x % 2 == 0]\n",
    "print(\"a list of squares of even number from 0 to 5:\", set_2, \"\\n\")\n",
    "\n",
    "#Comprehension based operation\n",
    "set_1 = {(1, 2), (4, 5), (7, 8)}\n",
    "set_2 = {(2, 3), (5, 6), (8, 9)}\n",
    "joined_set = {(t1[0], t1[1], t2[1]) for t1 in set_1 for t2 in set_2 if (t1[1] == t2[0])}\n",
    "print(\"joined set:\", joined_set)"
   ]
  },
  {
   "cell_type": "markdown",
   "metadata": {},
   "source": [
    "**Credits**\n",
    "This notebook has been built from the [Deep Learning](https://deeplearning.cs.cmu.edu/F22/index.html) course at CMU "
   ]
  },
  {
   "cell_type": "code",
   "execution_count": null,
   "metadata": {},
   "outputs": [],
   "source": []
  }
 ],
 "metadata": {
  "colab": {
   "collapsed_sections": [],
   "name": "Recitation0A_Python_Fundamentals.ipynb",
   "provenance": [],
   "toc_visible": true
  },
  "kernelspec": {
   "display_name": "Python 3 (ipykernel)",
   "language": "python",
   "name": "python3"
  },
  "language_info": {
   "codemirror_mode": {
    "name": "ipython",
    "version": 3
   },
   "file_extension": ".py",
   "mimetype": "text/x-python",
   "name": "python",
   "nbconvert_exporter": "python",
   "pygments_lexer": "ipython3",
   "version": "3.9.7"
  }
 },
 "nbformat": 4,
 "nbformat_minor": 4
}
