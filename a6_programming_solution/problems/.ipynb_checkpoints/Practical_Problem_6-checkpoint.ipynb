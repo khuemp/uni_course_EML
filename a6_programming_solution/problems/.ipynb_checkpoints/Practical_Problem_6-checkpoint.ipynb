{
 "cells": [
  {
   "cell_type": "code",
   "execution_count": 8,
   "id": "6f3a799c",
   "metadata": {},
   "outputs": [],
   "source": [
    "import pandas as pd\n",
    "import numpy as np\n",
    "from sklearn.ensemble import RandomForestRegressor\n",
    "import matplotlib.pyplot as plt\n",
    "import matplotlib.cm as cm\n",
    "np.random.seed(1)"
   ]
  },
  {
   "cell_type": "code",
   "execution_count": 1,
   "id": "01023a9c",
   "metadata": {},
   "outputs": [],
   "source": [
    "# (a) Loading data and computing correlations.\n",
    "X_train = pd.read_csv('train.csv', header = None, usecols = [0])\n",
    "y_train = pd.read_csv('train.csv', header = None, usecols = [-1]) # The target y is included as the last column of train.csv.\n",
    "print(X,)"
   ]
  },
  {
   "cell_type": "code",
   "execution_count": 11,
   "id": "b2a90a23",
   "metadata": {},
   "outputs": [],
   "source": [
    "# (b) Fitting the bagging model\n",
    "p = 100                        # Number of trees to be used\n",
    "bagging = ...                  # Define and fit the model"
   ]
  },
  {
   "cell_type": "code",
   "execution_count": 3,
   "id": "034b33f9",
   "metadata": {},
   "outputs": [],
   "source": [
    "# (c) Loading the test data...\n",
    "X_test = ...\n",
    "y_test = ... # As above, the target is included as the last column of test.csv.\n",
    "\n",
    "# ...and computing the correlations between the different trees in the model\n",
    "def prediction_corr(model, X, y):\n",
    "    S = []\n",
    "    pass\n",
    "    return np.mean(S)\n",
    "print(prediction_corr(...))"
   ]
  },
  {
   "cell_type": "code",
   "execution_count": 4,
   "id": "9074b206",
   "metadata": {},
   "outputs": [],
   "source": [
    "# (d) Computing the correlations between the residuals instead\n",
    "def residual_corr(model, X, y):\n",
    "    S = []\n",
    "    pass \n",
    "    return np.mean(S)\n",
    "print(residual_corr(...))"
   ]
  },
  {
   "cell_type": "markdown",
   "id": "2b4ecd5c",
   "metadata": {},
   "source": [
    "We see that..."
   ]
  },
  {
   "cell_type": "code",
   "execution_count": 9,
   "id": "35412596",
   "metadata": {},
   "outputs": [],
   "source": [
    "# (e) Training RFs with different numbers of subsampled features for each tree\n",
    "RFs = dict()\n",
    "Qs = np.linspace(...) \n",
    "for q in Qs:\n",
    "    pass"
   ]
  },
  {
   "cell_type": "code",
   "execution_count": 6,
   "id": "670dd656",
   "metadata": {},
   "outputs": [],
   "source": [
    "# (f) Residual correlations for different numbers of features\n",
    "rf_res_corr = []\n",
    "for q in Qs:\n",
    "    pass"
   ]
  },
  {
   "cell_type": "markdown",
   "id": "5fd822dd",
   "metadata": {},
   "source": [
    "We see..."
   ]
  },
  {
   "cell_type": "code",
   "execution_count": 10,
   "id": "07c176d8",
   "metadata": {},
   "outputs": [],
   "source": [
    "# (g) Computing the feature importances and plotting them against the linear correlations\n",
    "cmap = cm.Reds\n",
    "for q in Qs:\n",
    "    color = cmap(q)\n",
    "    # Fill this in\n",
    "    pass\n",
    "    plt.scatter(..., color=color)\n",
    "    \n",
    "# Stuff to make it look decent\n",
    "sm = plt.cm.ScalarMappable(cmap=cmap)\n",
    "cbar = plt.colorbar(sm)\n",
    "cbar.set_label('q')\n",
    "plt.xlabel('Linear correlations with target')\n",
    "plt.ylabel('Feature importance')"
   ]
  },
  {
   "cell_type": "markdown",
   "id": "189a1423",
   "metadata": {},
   "source": [
    "We see..."
   ]
  }
 ],
 "metadata": {
  "kernelspec": {
   "display_name": "Python 3 (ipykernel)",
   "language": "python",
   "name": "python3"
  },
  "language_info": {
   "codemirror_mode": {
    "name": "ipython",
    "version": 3
   },
   "file_extension": ".py",
   "mimetype": "text/x-python",
   "name": "python",
   "nbconvert_exporter": "python",
   "pygments_lexer": "ipython3",
   "version": "3.9.7"
  }
 },
 "nbformat": 4,
 "nbformat_minor": 5
}
