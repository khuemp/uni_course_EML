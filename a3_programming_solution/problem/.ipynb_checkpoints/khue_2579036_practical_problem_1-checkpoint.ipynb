{
 "cells": [
  {
   "cell_type": "code",
   "execution_count": 1,
   "id": "a9ed6b54-f74e-4341-bf36-10d5cc01a09e",
   "metadata": {},
   "outputs": [],
   "source": [
    "import numpy as np\n",
    "import pandas as pd\n",
    "import matplotlib.pyplot as plt "
   ]
  },
  {
   "cell_type": "markdown",
   "id": "20b95bf1",
   "metadata": {},
   "source": [
    "### 1. Dataset\n",
    "Load the prostate dataset. "
   ]
  },
  {
   "cell_type": "code",
   "execution_count": 2,
   "id": "21c9a895-9863-4a10-9c4b-fcc5dcb21283",
   "metadata": {
    "scrolled": true
   },
   "outputs": [],
   "source": [
    "#DONE \n",
    "train = pd.read_csv('data/prostate_train.csv') \n",
    "test = pd.read_csv('data/prostate_test.csv') "
   ]
  },
  {
   "cell_type": "markdown",
   "id": "d09ceac3",
   "metadata": {},
   "source": [
    "We will use the target $y=$lpsa throughout this exercise, and all other features as predictors $X$, so split the train and test sets by $X,y$."
   ]
  },
  {
   "cell_type": "code",
   "execution_count": 3,
   "id": "6c2fae2f-9b61-4e3b-a06b-f958566cd289",
   "metadata": {},
   "outputs": [],
   "source": [
    "#TODO\n",
    "Xtrain, ytrain = None, None\n",
    "Xtest, ytest = None, None"
   ]
  },
  {
   "cell_type": "markdown",
   "id": "e1545466-f4b8-4dac-aedc-23a28aaa34ba",
   "metadata": {},
   "source": [
    "### 2. Ridge Regression\n",
    "Perform Ridge regression with target lpsa and all other features as predictors. Do so for different regularization parameters $\\lambda$.\n",
    "Plot the resulting coefficients depending on $\\lambda$, as in ISLR, p.238, Fig. 6.4."
   ]
  },
  {
   "cell_type": "code",
   "execution_count": 4,
   "id": "c07740f4-6f7c-4f7f-9186-e808c6a1234a",
   "metadata": {},
   "outputs": [],
   "source": [
    "from sklearn.linear_model import Ridge  \n",
    "    \n",
    "# This is an example of possible values for the lambda that you can consider.\n",
    "lambdas = np.logspace(-5, 5, 200)\n",
    "\n",
    "#TODO"
   ]
  },
  {
   "cell_type": "markdown",
   "id": "6ab66f56-297f-4602-aac9-bf6ea03d322a",
   "metadata": {},
   "source": [
    "### 3. Cross Validation & Ridge\n",
    "Perform 10-fold cross-validation on the training set to determine the optimal value for $\\lambda$ for the ridge regression model."
   ]
  },
  {
   "cell_type": "code",
   "execution_count": 10,
   "id": "b7100c5d-6304-4720-ac5b-0cba6277b143",
   "metadata": {},
   "outputs": [],
   "source": [
    "from sklearn.model_selection import KFold\n",
    "\n",
    "# K-fold cross validation\n",
    "folds = 10\n",
    "\n",
    "#TODO"
   ]
  },
  {
   "cell_type": "markdown",
   "id": "d24b8928",
   "metadata": {},
   "source": [
    "Report train and test error measured in MSE for this $\\lambda$."
   ]
  },
  {
   "cell_type": "code",
   "execution_count": null,
   "id": "ad88c2be",
   "metadata": {},
   "outputs": [],
   "source": []
  },
  {
   "cell_type": "markdown",
   "id": "d2205c6e-02cf-4228-8f81-9396308ba0f7",
   "metadata": {},
   "source": [
    "### 4. Lasso Regression\n",
    "Perform Lasso regression with target lpsa and all other features as predictors. Do so for different parameters $\\lambda$.\n",
    "\n",
    "Plot the resulting coefficients depending on $\\lambda$, as in ISLR, p.242, Fig. 6.6."
   ]
  },
  {
   "cell_type": "code",
   "execution_count": null,
   "id": "b7709f18-b292-4ae3-a13e-d0424e329ed2",
   "metadata": {},
   "outputs": [],
   "source": []
  },
  {
   "cell_type": "markdown",
   "id": "1a6290f0",
   "metadata": {},
   "source": [
    "## 5. Cross Validation & Lasso\n",
    "Perform 10-fold cross-validation on the training set to determine the optimal value for $\\lambda$ in the Lasso.\n",
    "\t\tReport train and test error measured in MSE for this $\\lambda$. "
   ]
  },
  {
   "cell_type": "code",
   "execution_count": null,
   "id": "bbe5e008",
   "metadata": {},
   "outputs": [],
   "source": []
  },
  {
   "cell_type": "markdown",
   "id": "f4d3048f",
   "metadata": {},
   "source": [
    "How many and which features are used?\n",
    "\t\tCompare this to the coefficients determined for ridge regression in part 3 of this exercise."
   ]
  },
  {
   "cell_type": "markdown",
   "id": "a1effc6b",
   "metadata": {},
   "source": []
  },
  {
   "cell_type": "markdown",
   "id": "9b1138f6",
   "metadata": {},
   "source": [
    "## 6. \n",
    "\n",
    "Compare the performance, in terms of MSE, of the best models in parts 3. and 5. Which model would you choose and why? What alternative model could have been used?"
   ]
  },
  {
   "cell_type": "markdown",
   "id": "f77fbac5",
   "metadata": {},
   "source": []
  }
 ],
 "metadata": {
  "kernelspec": {
   "display_name": "Python 3 (ipykernel)",
   "language": "python",
   "name": "python3"
  },
  "language_info": {
   "codemirror_mode": {
    "name": "ipython",
    "version": 3
   },
   "file_extension": ".py",
   "mimetype": "text/x-python",
   "name": "python",
   "nbconvert_exporter": "python",
   "pygments_lexer": "ipython3",
   "version": "3.9.7"
  }
 },
 "nbformat": 4,
 "nbformat_minor": 5
}
