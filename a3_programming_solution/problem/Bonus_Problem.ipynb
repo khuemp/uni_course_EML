{
 "cells": [
  {
   "cell_type": "code",
   "execution_count": 1,
   "id": "8a7deabd-cd2f-4e29-ac8f-10039dbd131a",
   "metadata": {},
   "outputs": [],
   "source": [
    "import numpy as np\n",
    "import scipy as sp\n",
    "import pandas as pd\n",
    "import matplotlib.pyplot as plt"
   ]
  },
  {
   "cell_type": "markdown",
   "id": "987e79e0-4ab1-4031-836a-60e7483dc20c",
   "metadata": {},
   "source": [
    "### Data Generation\n",
    "We fist generate data from a linear model."
   ]
  },
  {
   "cell_type": "code",
   "execution_count": 2,
   "id": "612a1dda-8e81-454e-831b-decbd387de02",
   "metadata": {},
   "outputs": [],
   "source": [
    "def gen_data (n_samp=1000):\n",
    "\n",
    "    X = np.random.normal(0, 0.1, n_samp)\n",
    "\n",
    "    noise = np.random.normal(0, 0.1, n_samp) #np.random.uniform(-10,10, size=(n_samp,))\n",
    "    beta = 2\n",
    "    y = beta * X + noise\n",
    "    data = pd.DataFrame({'x':X, 'y':y})\n",
    "    return data"
   ]
  },
  {
   "cell_type": "code",
   "execution_count": 3,
   "id": "b2b5c2ce",
   "metadata": {},
   "outputs": [],
   "source": [
    "data = gen_data()"
   ]
  },
  {
   "cell_type": "markdown",
   "id": "13deb18e-5b52-427e-a47a-46de621f87e4",
   "metadata": {},
   "source": [
    "### Plotting the data\n",
    "\n"
   ]
  },
  {
   "cell_type": "code",
   "execution_count": 4,
   "id": "fed15921-5e08-45bf-8a0f-9bebefb89dd2",
   "metadata": {},
   "outputs": [
    {
     "data": {
      "text/plain": [
       "<AxesSubplot:xlabel='x', ylabel='y'>"
      ]
     },
     "execution_count": 4,
     "metadata": {},
     "output_type": "execute_result"
    },
    {
     "data": {
      "image/png": "[encoded data removed]",
      "text/plain": [
       "<Figure size 432x288 with 1 Axes>"
      ]
     },
     "metadata": {
      "needs_background": "light"
     },
     "output_type": "display_data"
    }
   ],
   "source": [
    "data.plot('x', 'y', kind='scatter')"
   ]
  },
  {
   "cell_type": "markdown",
   "id": "e2562b9f-562a-495d-b146-ff2b7edf82cc",
   "metadata": {},
   "source": [
    "# Accounting for Coefficient Uncertainty\n",
    "Since we consider linear models and independent samples $y_i$, we assume the following distribution for our response $Y$,\n",
    "    \\begin{align}  \\label{eq1}\n",
    "    P(Y \\mid X, \\beta) &=\\prod_{i=1}^n  p(y_i \\mid x_i, \\beta)\\\\\n",
    "    p(y_i \\mid x_i, \\beta) &\\sim \\mathcal N (y_i \\mid x_i^T \\beta, \\sigma^2) \\quad (1)\n",
    "    \\end{align}\n",
    "    \n",
    "In addition, since we want to argue about coefficient uncertainty, we also place some distribution $D$ over the parameters $\\beta$.\n",
    "    "
   ]
  },
  {
   "cell_type": "markdown",
   "id": "e6ad3d78",
   "metadata": {},
   "source": [
    "### Part (a)\n",
    "We first assume that the coefficient distribution is Gaussian, $\\beta \\sim \\mathcal N (0, \\phi^2)$.\n",
    " \n",
    "Complete the function below with the expression you found in the theoretical exercise for\n",
    "    $\\text{log} \\Big( p(\\beta)  p(Y \\mid X, \\beta) \\Big)\\;.$"
   ]
  },
  {
   "cell_type": "code",
   "execution_count": 8,
   "id": "e683871f-452a-4c92-80e6-c9c482813a91",
   "metadata": {},
   "outputs": [],
   "source": [
    "def log_term(params_beta, data):\n",
    "    mu_beta, sig_beta = params_beta\n",
    "    \n",
    "    raise NotImplementedError()"
   ]
  },
  {
   "cell_type": "code",
   "execution_count": 9,
   "id": "057d8125-b685-47c7-97ca-2cb79f20b532",
   "metadata": {
    "scrolled": false
   },
   "outputs": [
    {
     "name": "stdout",
     "output_type": "stream",
     "text": [
      "None\n"
     ]
    }
   ],
   "source": [
    "print(log_term((1, 1), data))"
   ]
  },
  {
   "cell_type": "markdown",
   "id": "b97a7a2c-3683-4f8d-a16a-0e97bb210a3f",
   "metadata": {},
   "source": [
    "###  Part (b)\n",
    "\n",
    "Solve the expression \n",
    "    $\\text{max}_\\beta \\text{log} \\Big( p(\\beta)  p(Y \\mid X, \\beta) \\Big)\\; (5.2)$ \n",
    "for $\\beta$."
   ]
  },
  {
   "cell_type": "code",
   "execution_count": 7,
   "id": "f73b38b9-f474-43ee-9927-d2d0ec8157d6",
   "metadata": {},
   "outputs": [],
   "source": [
    "#Hint function:\n",
    "import scipy.optimize as optimize"
   ]
  },
  {
   "cell_type": "markdown",
   "id": "38f15c78",
   "metadata": {},
   "source": [
    "### Part (c)\n",
    "\n",
    "Sample different values for $\\beta$ from a Gaussian distribution and create a histogram over these. Indicate the estimate for $\\beta$ that you found in part (b)."
   ]
  },
  {
   "cell_type": "code",
   "execution_count": null,
   "id": "bd52d8f8",
   "metadata": {},
   "outputs": [],
   "source": []
  },
  {
   "cell_type": "markdown",
   "id": "b39998d9",
   "metadata": {},
   "source": [
    "## Part (d) \n",
    "Repeat parts (b) and (c) with increasing numbers of datapoints, e.g., $n=10, n=100, n=1000$."
   ]
  },
  {
   "cell_type": "code",
   "execution_count": null,
   "id": "9e25437e",
   "metadata": {},
   "outputs": [],
   "source": []
  },
  {
   "cell_type": "markdown",
   "id": "96125870",
   "metadata": {},
   "source": [
    "Can you observe a trend?"
   ]
  },
  {
   "cell_type": "markdown",
   "id": "4fec0871",
   "metadata": {},
   "source": []
  }
 ],
 "metadata": {
  "kernelspec": {
   "display_name": "Python 3 (ipykernel)",
   "language": "python",
   "name": "python3"
  },
  "language_info": {
   "codemirror_mode": {
    "name": "ipython",
    "version": 3
   },
   "file_extension": ".py",
   "mimetype": "text/x-python",
   "name": "python",
   "nbconvert_exporter": "python",
   "pygments_lexer": "ipython3",
   "version": "3.9.7"
  }
 },
 "nbformat": 4,
 "nbformat_minor": 5
}
