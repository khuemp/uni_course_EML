{
 "cells": [
  {
   "cell_type": "code",
   "execution_count": null,
   "id": "8a7deabd-cd2f-4e29-ac8f-10039dbd131a",
   "metadata": {},
   "outputs": [],
   "source": [
    "import numpy as np\n",
    "import scipy as sp\n",
    "from matplotlib import pyplot as plt\n",
    "\n",
    "from utilities import plot_class_pdf, show_boundary_2D, load_data, split_data, safeshape"
   ]
  },
  {
   "cell_type": "markdown",
   "id": "7794cb07-76ca-4433-bd57-d2dc219811e0",
   "metadata": {},
   "source": [
    "# Theoretical part\n",
    "Please remember to embed the answers of the theoretical part for the bonus within the report from this file.\n",
    "\n",
    "You may either \n",
    " * answer within this notebook using the markup cells, or\n",
    " * create a pdf file for your theoretical answers in another way and then manually merge it with the pdf report from this notebook.\n",
    " \n",
    " In both cases, you should submit a single pdf file containing both the answer of your theoretical part and the report of the practical part."
   ]
  },
  {
   "cell_type": "markdown",
   "id": "240058b5-eacf-41af-b107-afa04143331d",
   "metadata": {},
   "source": [
    "# Practical part"
   ]
  },
  {
   "cell_type": "markdown",
   "id": "987e79e0-4ab1-4031-836a-60e7483dc20c",
   "metadata": {},
   "source": [
    "## Loading data_1\n",
    "We first load the first dataset."
   ]
  },
  {
   "cell_type": "code",
   "execution_count": null,
   "id": "612a1dda-8e81-454e-831b-decbd387de02",
   "metadata": {},
   "outputs": [],
   "source": [
    "data_1 = load_data('bonus_1',2)"
   ]
  },
  {
   "cell_type": "markdown",
   "id": "13deb18e-5b52-427e-a47a-46de621f87e4",
   "metadata": {},
   "source": [
    "## Study the dataset\n",
    "\n",
    "Try to get the intuition of the provided data, by visualising the density of the classes.\n",
    "\n",
    "_Hint_: You might find useful the provided function ```plot_class_pdf```."
   ]
  },
  {
   "cell_type": "code",
   "execution_count": null,
   "id": "fed15921-5e08-45bf-8a0f-9bebefb89dd2",
   "metadata": {},
   "outputs": [],
   "source": [
    "domain = [[-1.3,1.3]]*2\n",
    "plot_class_pdf(domain,data_1,levels=1,bw_method=.25)"
   ]
  },
  {
   "cell_type": "markdown",
   "id": "6d5e1a6e-904e-4213-923a-761dec7f5f77",
   "metadata": {},
   "source": [
    "## Learning with nonlinearities (```data_1```)\n",
    "Using the knowledge you have acquired so far, but also any additional intuition of your own, perform the appropriate modifications on the data, that will allow a linear classifier to classify this dataset.\n",
    "\n",
    "For this, you will use a transformation function that will preprocess your data accordingly. Your transformation function will have to be used for both training and classification, appropriately.\n",
    "\n",
    "Using the provided data splitting, fit a logistic regression model on the training data.\n",
    "\n",
    "Draw the decision oundary of your classifier. _Hint_: You might find useful the function ```show_boundary_2D```.\n",
    "\n",
    "Report your accuracy on the testing data."
   ]
  },
  {
   "cell_type": "code",
   "execution_count": null,
   "id": "238e4fb8-4fbe-4859-ae10-b052bdbe4527",
   "metadata": {},
   "outputs": [],
   "source": [
    "def acc(X,y, model):\n",
    "    #Complete this function to compute the model accuracy.\n",
    "    raise NotImplementedError()"
   ]
  },
  {
   "cell_type": "code",
   "execution_count": null,
   "id": "e683871f-452a-4c92-80e6-c9c482813a91",
   "metadata": {},
   "outputs": [],
   "source": [
    "sdata_1 = split_data(data_1.X,data_1.y)"
   ]
  },
  {
   "cell_type": "code",
   "execution_count": null,
   "id": "057d8125-b685-47c7-97ca-2cb79f20b532",
   "metadata": {},
   "outputs": [],
   "source": [
    "import sklearn as skl\n",
    "import sklearn.linear_model\n",
    "\n",
    "# Train your *logistic regression* here\n",
    "# You may use the models from scikit-learn.\n",
    "\n",
    "# Fill the next function to accept a design matrix with 2 predicates, and return one with\n",
    "# at most 2 additional predicates. Feel free to improvise, as long as you end up with\n",
    "# at most 4 predicates in total.\n",
    "# Then use this function appropriately to fit and predict.\n",
    "def trn_1(X):\n",
    "    # TODO: Modify this function (do not remove the assertion)\n",
    "    # X_out = ...\n",
    "    assert ((X_out.shape[0]==X.shape[0]) and (X_out.shape[1]<=4)),f'You are only allowed to use at MOST 4 predictors, but it seems you are using {safeshape(X_out,1)}'\n",
    "    return X_out\n",
    "#mdl = ...\n",
    "\n",
    "domain = [[-1.4,1.4]]*2\n",
    "plot_class_pdf(domain,data_1,levels=1,bw_method=.25)\n",
    "# show_boundary_2D(domain, ...)\n",
    "# Compute and report the accuracy of your model\n",
    "\n",
    "#acc( ___ FILL THIS ___)"
   ]
  },
  {
   "cell_type": "markdown",
   "id": "a02688b8-163f-4eef-8d1e-63e834bc3c66",
   "metadata": {},
   "source": [
    "## Loading data_2"
   ]
  },
  {
   "cell_type": "code",
   "execution_count": null,
   "id": "92625321-13a6-45f4-a39d-2578bf9e9ed0",
   "metadata": {},
   "outputs": [],
   "source": [
    "data_2 = load_data('bonus_2',2)"
   ]
  },
  {
   "cell_type": "code",
   "execution_count": null,
   "id": "62a7f4ea-8939-4502-8d04-67a212b0bc7f",
   "metadata": {},
   "outputs": [],
   "source": [
    "domain_2 = [[-.6,.6]]*2\n",
    "plot_class_pdf(domain_2,data_2,levels=1,bw_method=.25)"
   ]
  },
  {
   "cell_type": "markdown",
   "id": "aa600e05-91ef-4a3d-a3d7-8b57282d0627",
   "metadata": {},
   "source": [
    "## Study the dataset\n",
    "\n",
    "Try to get the intuition of the provided data, by visualising the density of the classes.\n",
    "\n",
    "_Hint_: You might find useful the provided function ```plot_class_pdf```."
   ]
  },
  {
   "cell_type": "markdown",
   "id": "d68956fd-c235-402b-a816-f1f0ebabe51a",
   "metadata": {},
   "source": [
    "## Learning with nonlinearities (```data_2```)\n",
    "Using the knowledge you have acquired so far, but also any additional intuition of your own, perform the appropriate modifications on the new data and its peculiarities, which may have to deviate from the method you used for ```data_1```. Your goal is to find a transform that can replace the given predicates with a single one that allows a linear classifier to classify this dataset.\n",
    "\n",
    "For this, you will again use a transformation function that will preprocess your data accordingly. Your transformation function will have to be used for both training and classification, appropriately.\n",
    "\n",
    "Using the provided data splitting, fit a logistic regression model on the training data.\n",
    "\n",
    "Draw the decision oundary of your classifier. _Hint_: You might find useful the function ```show_boundary_2D```.\n",
    "\n",
    "Report your accuracy on the testing data."
   ]
  },
  {
   "cell_type": "markdown",
   "id": "b97a7a2c-3683-4f8d-a16a-0e97bb210a3f",
   "metadata": {},
   "source": [
    "## Classifying data_2\n",
    "Again, use any method you prefer to classify the datset using the data_2 dataset.\n",
    "Using the provided splitting, evaluate your classifier accuracy.\n",
    "After training, plot the test dataset distribution and the decision boundary of your method.\n",
    "You might find useful the function _show_boundary_2D_."
   ]
  },
  {
   "cell_type": "code",
   "execution_count": null,
   "id": "f73b38b9-f474-43ee-9927-d2d0ec8157d6",
   "metadata": {},
   "outputs": [],
   "source": [
    "sdata_2 = split_data(data_2.X,data_2.y)"
   ]
  },
  {
   "cell_type": "code",
   "execution_count": null,
   "id": "5e023405-3b6b-4395-8c3c-4eb7d696ae9e",
   "metadata": {},
   "outputs": [],
   "source": [
    "# Here, train your model\n",
    "import sklearn as skl\n",
    "import sklearn.linear_model\n",
    "\n",
    "## Train your logistic regression here\n",
    "# You may use the models from scikit-learn.\n",
    "\n",
    "# Fill the next function to accept a design matrix with 2 predicates, and return one with\n",
    "# exactly one predicate.\n",
    "# Then use it appropriately to fit and predict.\n",
    "def trn_2(X):\n",
    "    # TODO: Modify this function (do not remove the assertion)\n",
    "    # X_out = ...\n",
    "    assert (X_out.shape[0]==X.shape[0]) and (X_out.shape[1]==1),f'This function should return a design matrix with only a single feature, but it seems it returns {safeshape(X_out,1)}'\n",
    "    return X_out\n",
    "#mdl = ...\n",
    "\n",
    "plot_class_pdf(domain_2,data_2,levels=1,bw_method=.25)\n",
    "#show_boundary_2D(domain_2, mdl, ...\n",
    "#acc( ___ FILL THIS ___)"
   ]
  }
 ],
 "metadata": {
  "kernelspec": {
   "display_name": "Python 3 (ipykernel)",
   "language": "python",
   "name": "python3"
  },
  "language_info": {
   "codemirror_mode": {
    "name": "ipython",
    "version": 3
   },
   "file_extension": ".py",
   "mimetype": "text/x-python",
   "name": "python",
   "nbconvert_exporter": "python",
   "pygments_lexer": "ipython3"
  }
 },
 "nbformat": 4,
 "nbformat_minor": 5
}
