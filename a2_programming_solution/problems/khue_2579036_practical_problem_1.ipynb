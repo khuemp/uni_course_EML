{
 "cells": [
  {
   "cell_type": "code",
   "execution_count": 1,
   "id": "a9ed6b54-f74e-4341-bf36-10d5cc01a09e",
   "metadata": {},
   "outputs": [],
   "source": [
    "import numpy as np\n",
    "import pandas as pd\n",
    "import matplotlib.pyplot as plt"
   ]
  },
  {
   "cell_type": "markdown",
   "id": "20b95bf1",
   "metadata": {},
   "source": [
    "### 1. Phoneme Dataset\n",
    "Load the phoneme dataset using Pandas"
   ]
  },
  {
   "cell_type": "code",
   "execution_count": 2,
   "id": "21c9a895-9863-4a10-9c4b-fcc5dcb21283",
   "metadata": {},
   "outputs": [
    {
     "name": "stdout",
     "output_type": "stream",
     "text": [
      "      row.names       x.1       x.2       x.3       x.4       x.5       x.6  \\\n",
      "0             1   9.85770   9.20711   9.81689   9.01692   9.05675   8.92518   \n",
      "1             2  13.23079  14.19189  15.34428  18.11737  19.53875  18.32726   \n",
      "2             3  10.81889   9.07615   9.77940  12.20135  12.59005  10.53364   \n",
      "3             4  10.53679   9.12147  10.84621  13.92331  13.52476  10.27831   \n",
      "4             5  12.96705  13.69454  14.91182  18.22292  18.45390  17.25760   \n",
      "...         ...       ...       ...       ...       ...       ...       ...   \n",
      "4504       4505  11.38394  10.21040  16.32658  18.30125  16.91804  10.90029   \n",
      "4505       4506  12.01774  11.86761  16.34707  18.05214  15.97599  12.86022   \n",
      "4506       4507  12.30174  12.40383   9.06497  12.43750  13.48388  13.52034   \n",
      "4507       4508   8.39388   9.84770  16.24534  17.35311  14.80537  12.72429   \n",
      "4508       4509   8.14032   9.93753  16.30187  17.31425  14.40116  13.52353   \n",
      "\n",
      "           x.7       x.8       x.9  ...     x.249     x.250     x.251  \\\n",
      "0     11.28308  11.52980  10.79713  ...  12.68076  11.20767  13.69394   \n",
      "1     17.34169  17.16861  19.63557  ...   8.45714   8.77266   9.59717   \n",
      "2      8.54693   9.46049  11.96755  ...   5.00824   5.51019   5.95725   \n",
      "3      8.97459  11.57109  12.35839  ...   5.85688   5.40324   6.07126   \n",
      "4     17.79614  17.76387  18.99632  ...   8.00151   7.58624   6.65202   \n",
      "...        ...       ...       ...  ...       ...       ...       ...   \n",
      "4504  17.10393  19.37741  18.46994  ...   9.79996   7.85765   6.92906   \n",
      "4505  16.83436  18.38985  15.90410  ...   8.20094   8.40645   7.49869   \n",
      "4506  12.97796  11.58782  12.54174  ...  12.83836  10.62525  10.15274   \n",
      "4507  17.01145  17.54733  14.35809  ...   4.57875   7.91262   8.08014   \n",
      "4508  16.85938  17.14016  13.06426  ...   5.27574   6.95050   7.83462   \n",
      "\n",
      "         x.252     x.253     x.254     x.255     x.256    g  \\\n",
      "0     13.72055  12.16628  12.92489  12.51195   9.75527   sh   \n",
      "1      8.45336   7.57730   5.38504   9.43063   8.59328   iy   \n",
      "2      7.04992   7.02469   6.58416   6.27058   3.85042  dcl   \n",
      "3      5.30651   4.27412   3.63384   3.22823   4.63123  dcl   \n",
      "4      7.69109   6.93683   7.03600   7.01278   8.52197   aa   \n",
      "...        ...       ...       ...       ...       ...  ...   \n",
      "4504   8.89384   8.04072   6.99793   6.07412   7.32593   iy   \n",
      "4505   9.56486  10.86934   8.85308   9.88492   6.35767   aa   \n",
      "4506   9.59347  10.66338   9.88007  10.82203  12.00199   sh   \n",
      "4507   9.25111   9.56086   9.37979   6.83916   8.54817   ao   \n",
      "4508   7.96455   7.26886   7.08945   7.72929   6.42167   ao   \n",
      "\n",
      "                  speaker  \n",
      "0     train.dr1.mcpm0.sa1  \n",
      "1     train.dr1.mcpm0.sa1  \n",
      "2     train.dr1.mcpm0.sa1  \n",
      "3     train.dr1.mcpm0.sa1  \n",
      "4     train.dr1.mcpm0.sa1  \n",
      "...                   ...  \n",
      "4504   test.dr8.mslb0.sa1  \n",
      "4505   test.dr8.mslb0.sa1  \n",
      "4506   test.dr8.mslb0.sa1  \n",
      "4507   test.dr8.mslb0.sa1  \n",
      "4508   test.dr8.mslb0.sa1  \n",
      "\n",
      "[4509 rows x 259 columns]\n"
     ]
    }
   ],
   "source": [
    "data = pd.read_csv('data/phoneme.csv')\n",
    "print(data)\n",
    "\n",
    "# DONE \n",
    "# Split the dataset into a train and test dataset according to column \"speaker\".\n",
    "# Be sure to exclude row number, \"speaker\" and response columns from your features."
   ]
  },
  {
   "cell_type": "code",
   "execution_count": 3,
   "id": "f43d3b5f",
   "metadata": {},
   "outputs": [
    {
     "name": "stdout",
     "output_type": "stream",
     "text": [
      "           x.1       x.2       x.3       x.4       x.5       x.6       x.7  \\\n",
      "0      9.85770   9.20711   9.81689   9.01692   9.05675   8.92518  11.28308   \n",
      "1     13.23079  14.19189  15.34428  18.11737  19.53875  18.32726  17.34169   \n",
      "2     10.81889   9.07615   9.77940  12.20135  12.59005  10.53364   8.54693   \n",
      "3     10.53679   9.12147  10.84621  13.92331  13.52476  10.27831   8.97459   \n",
      "4     12.96705  13.69454  14.91182  18.22292  18.45390  17.25760  17.79614   \n",
      "...        ...       ...       ...       ...       ...       ...       ...   \n",
      "3335   8.71574   6.63970  16.13753  17.59480  15.84771  13.73761  19.23975   \n",
      "3336  12.09090  12.07206  15.06150  17.91977  17.37121  13.15412  13.50169   \n",
      "3337  11.62867  11.51609  11.89907  11.93342  11.95919   9.44128   7.12836   \n",
      "3338  12.08473  13.30547  16.92965  17.14066  13.09360  17.26574  19.11256   \n",
      "3339  12.50446  13.94449  16.18002  16.87066  11.25393  16.60865  17.89792   \n",
      "\n",
      "           x.8       x.9      x.10  ...     x.247     x.248     x.249  \\\n",
      "0     11.52980  10.79713   9.04747  ...  13.19359  12.94519  12.68076   \n",
      "1     17.16861  19.63557  20.15212  ...   7.93572   8.91567   8.45714   \n",
      "2      9.46049  11.96755  12.05282  ...   5.83309   6.49345   5.00824   \n",
      "3     11.57109  12.35839  10.47826  ...   5.95977   5.36506   5.85688   \n",
      "4     17.76387  18.99632  17.40394  ...   8.91020   7.74256   8.00151   \n",
      "...        ...       ...       ...  ...       ...       ...       ...   \n",
      "3335  20.39624  18.51196  13.38063  ...   6.60373   6.42871   7.62157   \n",
      "3336  18.52702  18.61880  15.82109  ...   7.11003   6.85941   7.36664   \n",
      "3337  11.24944   9.84343  12.33532  ...  12.45060  12.74615  12.80725   \n",
      "3338  17.70642  14.61316  18.45107  ...   7.88290   5.10791   3.52400   \n",
      "3339  16.89914  12.85608  18.02536  ...   8.84677   7.34096   7.10767   \n",
      "\n",
      "         x.250     x.251     x.252     x.253     x.254     x.255     x.256  \n",
      "0     11.20767  13.69394  13.72055  12.16628  12.92489  12.51195   9.75527  \n",
      "1      8.77266   9.59717   8.45336   7.57730   5.38504   9.43063   8.59328  \n",
      "2      5.51019   5.95725   7.04992   7.02469   6.58416   6.27058   3.85042  \n",
      "3      5.40324   6.07126   5.30651   4.27412   3.63384   3.22823   4.63123  \n",
      "4      7.58624   6.65202   7.69109   6.93683   7.03600   7.01278   8.52197  \n",
      "...        ...       ...       ...       ...       ...       ...       ...  \n",
      "3335   7.12742   8.40709   9.26906   8.87265   4.97767   9.07757   9.52364  \n",
      "3336   6.58448   6.03421   5.30548   5.41143   6.19012   6.40605   5.66085  \n",
      "3337  10.29664  10.57033  13.14910  11.77279  12.42018  11.73776  11.31789  \n",
      "3338   5.13305   6.11436   6.73741   4.14095   5.68638   6.17875   7.57668  \n",
      "3339   7.20332   7.26288   6.06767   7.92481   7.41997   4.88609   4.94594  \n",
      "\n",
      "[3340 rows x 256 columns]\n"
     ]
    }
   ],
   "source": [
    "data_train = data.iloc[0:3340]\n",
    "X_train = data_train.loc[:, ~data_train.columns.isin(['row.names', 'speaker', 'g'])]\n",
    "print(X_train)"
   ]
  },
  {
   "cell_type": "code",
   "execution_count": 4,
   "id": "3e6592d8",
   "metadata": {},
   "outputs": [
    {
     "name": "stdout",
     "output_type": "stream",
     "text": [
      "           x.1       x.2       x.3       x.4       x.5       x.6       x.7  \\\n",
      "3340   9.92796   9.74454   8.74148  10.31529  12.60091  13.20503  12.91027   \n",
      "3341   9.94144  11.98050  11.22016  12.35993  18.01395  18.13849  15.14025   \n",
      "3342  11.18442   6.66093  11.46921  13.76405  12.69276  10.20742  13.30959   \n",
      "3343  10.72956  10.07414  10.24719  16.90955  18.79116  17.38038  11.32252   \n",
      "3344  13.59457  13.10868  12.62661  15.38879  19.36268  19.04574  14.79668   \n",
      "...        ...       ...       ...       ...       ...       ...       ...   \n",
      "4504  11.38394  10.21040  16.32658  18.30125  16.91804  10.90029  17.10393   \n",
      "4505  12.01774  11.86761  16.34707  18.05214  15.97599  12.86022  16.83436   \n",
      "4506  12.30174  12.40383   9.06497  12.43750  13.48388  13.52034  12.97796   \n",
      "4507   8.39388   9.84770  16.24534  17.35311  14.80537  12.72429  17.01145   \n",
      "4508   8.14032   9.93753  16.30187  17.31425  14.40116  13.52353  16.85938   \n",
      "\n",
      "           x.8       x.9      x.10  ...     x.247     x.248     x.249  \\\n",
      "3340  12.83584  10.10106  12.63221  ...  15.56951  15.35781  14.30416   \n",
      "3341  12.22858  14.88516  19.31814  ...   9.01009   9.91425  10.20457   \n",
      "3342  15.45495  15.02776  11.82353  ...   6.64919   5.55273   4.95443   \n",
      "3343  13.55152  18.93898  21.16237  ...   7.62794   7.40343   8.21028   \n",
      "3344  11.99237  17.55391  22.22755  ...   7.09693   8.12172   9.13323   \n",
      "...        ...       ...       ...  ...       ...       ...       ...   \n",
      "4504  19.37741  18.46994  14.12358  ...   8.96384  10.01974   9.79996   \n",
      "4505  18.38985  15.90410  13.18483  ...   8.22804   8.04774   8.20094   \n",
      "4506  11.58782  12.54174  14.09863  ...  12.79969  13.52778  12.83836   \n",
      "4507  17.54733  14.35809  13.65718  ...   4.30730   6.21847   4.57875   \n",
      "4508  17.14016  13.06426  15.32220  ...   6.59642   6.78122   5.27574   \n",
      "\n",
      "         x.250     x.251     x.252     x.253     x.254     x.255     x.256  \n",
      "3340  14.25287  14.21510  14.61223  11.68249  11.97492  10.91413  10.05628  \n",
      "3341   8.82700   8.23437   8.79296   8.53510   8.77193   8.22322   6.99881  \n",
      "3342   5.18135   4.06797   6.64865   4.47188   5.62205   6.53938   5.97200  \n",
      "3343   8.30796   8.38918   7.84155   6.33379   8.44055   4.67401   9.49416  \n",
      "3344   9.66197   9.60486   8.74195   8.24243   6.43331   8.77817   8.30483  \n",
      "...        ...       ...       ...       ...       ...       ...       ...  \n",
      "4504   7.85765   6.92906   8.89384   8.04072   6.99793   6.07412   7.32593  \n",
      "4505   8.40645   7.49869   9.56486  10.86934   8.85308   9.88492   6.35767  \n",
      "4506  10.62525  10.15274   9.59347  10.66338   9.88007  10.82203  12.00199  \n",
      "4507   7.91262   8.08014   9.25111   9.56086   9.37979   6.83916   8.54817  \n",
      "4508   6.95050   7.83462   7.96455   7.26886   7.08945   7.72929   6.42167  \n",
      "\n",
      "[1169 rows x 256 columns]\n"
     ]
    }
   ],
   "source": [
    "data_test = data.iloc[3340:4509]\n",
    "X_test = data_test.loc[:, ~data_train.columns.isin(['row.names', 'speaker', 'g'])]\n",
    "print(X_test)"
   ]
  },
  {
   "cell_type": "code",
   "execution_count": 5,
   "id": "a7e7b53c",
   "metadata": {},
   "outputs": [
    {
     "name": "stdout",
     "output_type": "stream",
     "text": [
      "0        sh\n",
      "1        iy\n",
      "2       dcl\n",
      "3       dcl\n",
      "4        aa\n",
      "       ... \n",
      "3335     iy\n",
      "3336     aa\n",
      "3337     sh\n",
      "3338     ao\n",
      "3339     ao\n",
      "Name: g, Length: 3340, dtype: object\n"
     ]
    }
   ],
   "source": [
    "y_train = data.iloc[0:3340, 257]\n",
    "print(y_train)"
   ]
  },
  {
   "cell_type": "code",
   "execution_count": 6,
   "id": "497000b5",
   "metadata": {},
   "outputs": [
    {
     "name": "stdout",
     "output_type": "stream",
     "text": [
      "3340     sh\n",
      "3341     iy\n",
      "3342    dcl\n",
      "3343     aa\n",
      "3344     iy\n",
      "       ... \n",
      "4504     iy\n",
      "4505     aa\n",
      "4506     sh\n",
      "4507     ao\n",
      "4508     ao\n",
      "Name: g, Length: 1169, dtype: object\n"
     ]
    }
   ],
   "source": [
    "y_test = data.iloc[3340:4509, 257]\n",
    "print(y_test)"
   ]
  },
  {
   "cell_type": "markdown",
   "id": "e1545466-f4b8-4dac-aedc-23a28aaa34ba",
   "metadata": {},
   "source": [
    "### 2. LDA modelling\n",
    "Fit an LDA model. Compute and report the train and test error."
   ]
  },
  {
   "cell_type": "code",
   "execution_count": 7,
   "id": "c07740f4-6f7c-4f7f-9186-e808c6a1234a",
   "metadata": {},
   "outputs": [
    {
     "name": "stdout",
     "output_type": "stream",
     "text": [
      "The train score of LDA model is 0.9440119760479042\n",
      "The test score of LDA model is 0.9195893926432849\n",
      "The train error of LDA model is 0.05598802395209579\n",
      "The test error of LDA model is 0.08041060735671512\n"
     ]
    }
   ],
   "source": [
    "# DONE\n",
    "from sklearn.discriminant_analysis import LinearDiscriminantAnalysis\n",
    "from sklearn.metrics import zero_one_loss\n",
    "\n",
    "LDA_model = LinearDiscriminantAnalysis()\n",
    "LDA_classifier = LDA_model.fit(X_train, y_train)\n",
    "\n",
    "train_score = LDA_classifier.score(X_train, y_train)\n",
    "test_score = LDA_classifier.score(X_test, y_test)\n",
    "print(\"The train score of LDA model is\", train_score)\n",
    "print(\"The test score of LDA model is\", test_score)\n",
    "\n",
    "y_pred_train = LDA_classifier.predict(X_train)\n",
    "y_pred_test = LDA_classifier.predict(X_test)\n",
    "print(\"The train error of LDA model is\", zero_one_loss(y_train, y_pred_train))\n",
    "print(\"The test error of LDA model is\", zero_one_loss(y_test, y_pred_test))"
   ]
  },
  {
   "cell_type": "markdown",
   "id": "6ab66f56-297f-4602-aac9-bf6ea03d322a",
   "metadata": {},
   "source": [
    "### 3. LDA canonical coordinates\n",
    " Plot the projection of the training data onto the first two canonical coordinates of the LDA and report your findings. Investigate the data projected on further dimensions using the \\texttt{dimen} parameter."
   ]
  },
  {
   "cell_type": "code",
   "execution_count": 8,
   "id": "b7100c5d-6304-4720-ac5b-0cba6277b143",
   "metadata": {},
   "outputs": [
    {
     "data": {
      "image/png": "[encoded data removed]",
      "text/plain": [
       "<Figure size 432x288 with 1 Axes>"
      ]
     },
     "metadata": {
      "needs_background": "light"
     },
     "output_type": "display_data"
    }
   ],
   "source": [
    "# DONE \n",
    "LDA_model_proj = LinearDiscriminantAnalysis(n_components=2)\n",
    "projection = LDA_model_proj.fit_transform(X_train, y_train)\n",
    "\n",
    "plt.scatter(projection[:, 0][y_train == 'sh'],\n",
    "            projection[:, 1][y_train == 'sh'],\n",
    "           marker='o',\n",
    "           color='red',\n",
    "           label='sh')\n",
    "plt.scatter(projection[:, 0][y_train == 'dcl'],\n",
    "            projection[:, 1][y_train == 'dcl'],\n",
    "           marker='o',\n",
    "           color='blue',\n",
    "           label='dcl')\n",
    "plt.scatter(projection[:, 0][y_train == 'iy'],\n",
    "            projection[:, 1][y_train == 'iy'],\n",
    "           marker='o',\n",
    "           color='green',\n",
    "           label='iy')\n",
    "plt.scatter(projection[:, 0][y_train == 'aa'],\n",
    "            projection[:, 1][y_train == 'aa'],\n",
    "           marker='o',\n",
    "           color='purple',\n",
    "           label='aa')\n",
    "plt.scatter(projection[:, 0][y_train == 'ao'],\n",
    "            projection[:, 1][y_train == 'ao'],\n",
    "           marker='o',\n",
    "           color='orange',\n",
    "           label='ao')\n",
    "plt.legend()\n",
    "plt.show()"
   ]
  },
  {
   "cell_type": "markdown",
   "id": "d2205c6e-02cf-4228-8f81-9396308ba0f7",
   "metadata": {},
   "source": [
    "### 4. LDA on \"aa\", \"ao\"\n",
    "Select the two phonemes \"aa\" and \"ao\". Fit an LDA model on this data set and repeat the steps\n",
    "    done in (2)."
   ]
  },
  {
   "cell_type": "code",
   "execution_count": 9,
   "id": "b7709f18-b292-4ae3-a13e-d0424e329ed2",
   "metadata": {},
   "outputs": [
    {
     "name": "stdout",
     "output_type": "stream",
     "text": [
      "           x.1       x.2       x.3       x.4       x.5       x.6       x.7  \\\n",
      "4     12.96705  13.69454  14.91182  18.22292  18.45390  17.25760  17.79614   \n",
      "6     10.95324  11.20585  16.17634  18.59300  17.50922  10.27798  16.00151   \n",
      "8      9.37324  11.29505  17.15139  18.03336  14.95980  14.97031  18.63124   \n",
      "9      9.48477  11.38758  16.74884  17.36141  14.67661  15.02621  18.28174   \n",
      "13    11.62344  15.35490  18.85450  18.85172  14.21326  18.52945  20.11413   \n",
      "...        ...       ...       ...       ...       ...       ...       ...   \n",
      "3328   9.74357  15.23026  17.46805  16.23189  15.73793  18.47689  17.85606   \n",
      "3333  11.64146  12.25616  17.04220  18.17339  15.47619  15.25918  19.29400   \n",
      "3336  12.09090  12.07206  15.06150  17.91977  17.37121  13.15412  13.50169   \n",
      "3338  12.08473  13.30547  16.92965  17.14066  13.09360  17.26574  19.11256   \n",
      "3339  12.50446  13.94449  16.18002  16.87066  11.25393  16.60865  17.89792   \n",
      "\n",
      "           x.8       x.9      x.10  ...     x.247    x.248    x.249    x.250  \\\n",
      "4     17.76387  18.99632  17.40394  ...   8.91020  7.74256  8.00151  7.58624   \n",
      "6     19.32894  18.84554  13.37857  ...  10.29726  7.63297  8.76707  6.94130   \n",
      "8     18.77625  11.35160  16.37414  ...   7.09150  6.44054  6.53453  6.95005   \n",
      "9     17.79015  13.96172  16.72454  ...   9.22459  8.84206  8.30466  9.12239   \n",
      "13    18.24861  15.38825  19.02163  ...   7.64865  9.50691  9.98240  6.21816   \n",
      "...        ...       ...       ...  ...       ...      ...      ...      ...   \n",
      "3328  14.07334  18.09494  17.95351  ...   7.76908  7.47777  6.78043  6.54438   \n",
      "3333  19.63236  15.98917  16.19344  ...   9.80013  9.50756  8.94180  9.83632   \n",
      "3336  18.52702  18.61880  15.82109  ...   7.11003  6.85941  7.36664  6.58448   \n",
      "3338  17.70642  14.61316  18.45107  ...   7.88290  5.10791  3.52400  5.13305   \n",
      "3339  16.89914  12.85608  18.02536  ...   8.84677  7.34096  7.10767  7.20332   \n",
      "\n",
      "        x.251    x.252     x.253    x.254    x.255    x.256  \n",
      "4     6.65202  7.69109   6.93683  7.03600  7.01278  8.52197  \n",
      "6     8.79901  8.22345   7.63610  8.44448  8.28905  8.04018  \n",
      "8     6.46091  4.18584   6.27844  7.73464  7.41363  0.53710  \n",
      "9     7.03513  9.24298   8.77743  8.20530  9.75466  8.49344  \n",
      "13    8.68339  9.18723  10.20674  7.32824  9.85265  6.83350  \n",
      "...       ...      ...       ...      ...      ...      ...  \n",
      "3328  7.27554  7.23405   7.55488  6.05266  7.91478  6.91609  \n",
      "3333  9.34606  9.79242   8.98886  9.72337  9.72276  9.19075  \n",
      "3336  6.03421  5.30548   5.41143  6.19012  6.40605  5.66085  \n",
      "3338  6.11436  6.73741   4.14095  5.68638  6.17875  7.57668  \n",
      "3339  7.26288  6.06767   7.92481  7.41997  4.88609  4.94594  \n",
      "\n",
      "[1278 rows x 256 columns]\n"
     ]
    }
   ],
   "source": [
    "data_train_aaao = data_train.loc[(data_train['g'] == 'aa') | (data_train['g'] == 'ao')]\n",
    "X_train_aaao = data_train_aaao.loc[:, ~data_train_aaao.columns.isin(['row.names', 'speaker', 'g'])]\n",
    "print(X_train_aaao)"
   ]
  },
  {
   "cell_type": "code",
   "execution_count": 10,
   "id": "73f6dc0d",
   "metadata": {},
   "outputs": [
    {
     "name": "stdout",
     "output_type": "stream",
     "text": [
      "           x.1       x.2       x.3       x.4       x.5       x.6       x.7  \\\n",
      "3343  10.72956  10.07414  10.24719  16.90955  18.79116  17.38038  11.32252   \n",
      "3345   8.76154   8.10672   9.51957  16.67524  17.88041  15.69150  10.75864   \n",
      "3347  10.73904   6.17897  12.87199  17.02351  17.05646  13.69771   9.88330   \n",
      "3352  15.11909  15.28254  16.77457  18.21454  18.21510  15.51225  17.30249   \n",
      "3354  13.24060  13.25505  13.69984  18.27653  17.59943  14.89266  15.09513   \n",
      "...        ...       ...       ...       ...       ...       ...       ...   \n",
      "4497  12.38789  13.43828  16.84267  17.86295  14.64615  15.39920  18.40444   \n",
      "4502   9.42752  10.25236  16.93746  18.67321  17.07761  12.13760  17.42284   \n",
      "4505  12.01774  11.86761  16.34707  18.05214  15.97599  12.86022  16.83436   \n",
      "4507   8.39388   9.84770  16.24534  17.35311  14.80537  12.72429  17.01145   \n",
      "4508   8.14032   9.93753  16.30187  17.31425  14.40116  13.52353  16.85938   \n",
      "\n",
      "           x.8       x.9      x.10  ...     x.247     x.248     x.249  \\\n",
      "3343  13.55152  18.93898  21.16237  ...   7.62794   7.40343   8.21028   \n",
      "3345  13.91268  19.19638  19.95416  ...   5.24207   6.65801   5.43519   \n",
      "3347  17.46633  19.39107  17.94915  ...   6.92080   6.34511   6.84993   \n",
      "3352  20.65036  20.87927  16.45757  ...  12.04871  10.84589  11.78296   \n",
      "3354  19.75103  20.90870  18.24406  ...  11.27455  11.29279  11.52843   \n",
      "...        ...       ...       ...  ...       ...       ...       ...   \n",
      "4497  18.52192  14.57762  16.72441  ...   6.65515   8.71544   5.61934   \n",
      "4502  19.17112  17.35401   6.60142  ...  11.06263  11.00915  11.01625   \n",
      "4505  18.38985  15.90410  13.18483  ...   8.22804   8.04774   8.20094   \n",
      "4507  17.54733  14.35809  13.65718  ...   4.30730   6.21847   4.57875   \n",
      "4508  17.14016  13.06426  15.32220  ...   6.59642   6.78122   5.27574   \n",
      "\n",
      "         x.250     x.251     x.252     x.253     x.254     x.255     x.256  \n",
      "3343   8.30796   8.38918   7.84155   6.33379   8.44055   4.67401   9.49416  \n",
      "3345   6.87818   6.37075   7.72163   6.34045   5.60262   7.78511   7.13216  \n",
      "3347   8.75863   7.90889   6.42187   7.19461   8.99277   6.39883   6.76314  \n",
      "3352  12.58510  10.26071  13.60332  12.64102  10.87222  12.90994  13.89292  \n",
      "3354  10.70718  10.98920   9.84014   9.49796   8.72156   9.36702   9.98996  \n",
      "...        ...       ...       ...       ...       ...       ...       ...  \n",
      "4497   7.53751   8.84956   8.83092   8.01635   6.65265   6.48106  -2.89502  \n",
      "4502   9.76940  10.91810  10.10876   9.76110   9.19571   9.79198   4.55750  \n",
      "4505   8.40645   7.49869   9.56486  10.86934   8.85308   9.88492   6.35767  \n",
      "4507   7.91262   8.08014   9.25111   9.56086   9.37979   6.83916   8.54817  \n",
      "4508   6.95050   7.83462   7.96455   7.26886   7.08945   7.72929   6.42167  \n",
      "\n",
      "[439 rows x 256 columns]\n"
     ]
    }
   ],
   "source": [
    "data_test_aaao = data_test.loc[(data_test['g'] == 'aa') | (data_test['g'] == 'ao')]\n",
    "X_test_aaao = data_test_aaao.loc[:, ~data_test.columns.isin(['row.names', 'speaker', 'g'])]\n",
    "print(X_test_aaao)"
   ]
  },
  {
   "cell_type": "code",
   "execution_count": 11,
   "id": "42964b49",
   "metadata": {},
   "outputs": [
    {
     "name": "stdout",
     "output_type": "stream",
     "text": [
      "4       aa\n",
      "6       aa\n",
      "8       ao\n",
      "9       ao\n",
      "13      aa\n",
      "        ..\n",
      "3328    ao\n",
      "3333    aa\n",
      "3336    aa\n",
      "3338    ao\n",
      "3339    ao\n",
      "Name: g, Length: 1278, dtype: object\n"
     ]
    }
   ],
   "source": [
    "y_train_aaao = y_train.loc[(y_train == 'aa') | (y_train == 'ao')]\n",
    "print(y_train_aaao)"
   ]
  },
  {
   "cell_type": "code",
   "execution_count": 12,
   "id": "8e7def95",
   "metadata": {},
   "outputs": [
    {
     "name": "stdout",
     "output_type": "stream",
     "text": [
      "3343    aa\n",
      "3345    aa\n",
      "3347    ao\n",
      "3352    aa\n",
      "3354    aa\n",
      "        ..\n",
      "4497    ao\n",
      "4502    aa\n",
      "4505    aa\n",
      "4507    ao\n",
      "4508    ao\n",
      "Name: g, Length: 439, dtype: object\n"
     ]
    }
   ],
   "source": [
    "y_test_aaao = y_test.loc[(y_test == 'aa') | (y_test == 'ao')]\n",
    "print(y_test_aaao)"
   ]
  },
  {
   "cell_type": "code",
   "execution_count": 13,
   "id": "989e4cda",
   "metadata": {},
   "outputs": [
    {
     "name": "stdout",
     "output_type": "stream",
     "text": [
      "The train score of LDA model for aa and ao is 0.8935837245696401\n",
      "The test score of LDA model for aa and ao is 0.785876993166287\n",
      "The train error of LDA model for aa and ao is 0.10641627543035992\n",
      "The test error of LDA model for aa and ao is 0.214123006833713\n"
     ]
    }
   ],
   "source": [
    "# DONE\n",
    "LDA_model = LinearDiscriminantAnalysis()\n",
    "LDA_classifier_aaao = LDA_model.fit(X_train_aaao, y_train_aaao)\n",
    "\n",
    "train_score = LDA_classifier_aaao.score(X_train_aaao, y_train_aaao)\n",
    "test_score = LDA_classifier_aaao.score(X_test_aaao, y_test_aaao)\n",
    "print(\"The train score of LDA model for aa and ao is\", train_score)\n",
    "print(\"The test score of LDA model for aa and ao is\", test_score)\n",
    "\n",
    "y_pred_train_aaao = LDA_classifier_aaao.predict(X_train_aaao)\n",
    "y_pred_test_aaao = LDA_classifier_aaao.predict(X_test_aaao)\n",
    "print(\"The train error of LDA model for aa and ao is\", zero_one_loss(y_train_aaao, y_pred_train_aaao))\n",
    "print(\"The test error of LDA model for aa and ao is\", zero_one_loss(y_test_aaao, y_pred_test_aaao))"
   ]
  },
  {
   "cell_type": "markdown",
   "id": "2b231d3e",
   "metadata": {},
   "source": [
    "## 5. QDA\n",
    "Repeat steps (b) and (d) using QDA and report your findings. Would you prefer LDA or QDA in this example? Why?"
   ]
  },
  {
   "cell_type": "code",
   "execution_count": 14,
   "id": "52089486",
   "metadata": {},
   "outputs": [
    {
     "name": "stdout",
     "output_type": "stream",
     "text": [
      "The train score of QDA model is 1.0\n",
      "The test score of QDA model is 0.8417450812660393\n",
      "The train error of QDA model is 0.0\n",
      "The test error of QDA model is 0.1582549187339607\n"
     ]
    }
   ],
   "source": [
    "# DONE\n",
    "from sklearn.discriminant_analysis import QuadraticDiscriminantAnalysis\n",
    "QDA_model = QuadraticDiscriminantAnalysis()\n",
    "QDA_classifier = QDA_model.fit(X_train, y_train)\n",
    "\n",
    "train_score = QDA_classifier.score(X_train, y_train)\n",
    "test_score = QDA_classifier.score(X_test, y_test)\n",
    "print(\"The train score of QDA model is\", train_score)\n",
    "print(\"The test score of QDA model is\", test_score)\n",
    "\n",
    "y_pred_train = QDA_classifier.predict(X_train)\n",
    "y_pred_test = QDA_classifier.predict(X_test)\n",
    "print(\"The train error of QDA model is\", zero_one_loss(y_train, y_pred_train))\n",
    "print(\"The test error of QDA model is\", zero_one_loss(y_test, y_pred_test))"
   ]
  },
  {
   "cell_type": "code",
   "execution_count": 15,
   "id": "cabbc341",
   "metadata": {},
   "outputs": [
    {
     "name": "stdout",
     "output_type": "stream",
     "text": [
      "The train score of QDA model for aa and ao is 1.0\n",
      "The test score of QDA model for aa and ao is 0.6605922551252847\n",
      "The train error of QDA model for aa and ao is 0.0\n",
      "The test error of QDA model for aa and ao is 0.33940774487471526\n"
     ]
    }
   ],
   "source": [
    "QDA_model = QuadraticDiscriminantAnalysis()\n",
    "QDA_classifier_aaao = QDA_model.fit(X_train_aaao, y_train_aaao)\n",
    "\n",
    "train_score = QDA_classifier_aaao.score(X_train_aaao, y_train_aaao)\n",
    "test_score = QDA_classifier_aaao.score(X_test_aaao, y_test_aaao)\n",
    "print(\"The train score of QDA model for aa and ao is\", train_score)\n",
    "print(\"The test score of QDA model for aa and ao is\", test_score)\n",
    "\n",
    "y_pred_train_aaao = QDA_classifier_aaao.predict(X_train_aaao)\n",
    "y_pred_test_aaao = QDA_classifier_aaao.predict(X_test_aaao)\n",
    "print(\"The train error of QDA model for aa and ao is\", zero_one_loss(y_train_aaao, y_pred_train_aaao))\n",
    "print(\"The test error of QDA model for aa and ao is\", zero_one_loss(y_test_aaao, y_pred_test_aaao))"
   ]
  },
  {
   "cell_type": "markdown",
   "id": "0cc8b13a",
   "metadata": {},
   "source": [
    "*Answer*\n",
    "* For this example, LDA is better. Even though QDA has R-squared value 1.0 for training data (higher than LDA has: 0.95 and 0.89) but only 0.84 and 0.66 for testing data (lower than LDA has: 0.92 and 0.79)"
   ]
  },
  {
   "cell_type": "markdown",
   "id": "019d08a3",
   "metadata": {},
   "source": [
    "## 6. Confusion Matrices\n",
    "Generate confusion matrices for the LDA and QDA model for \"aa\" and \"ao\". Which differences can you observe between the models?"
   ]
  },
  {
   "cell_type": "code",
   "execution_count": 16,
   "id": "468e438b",
   "metadata": {},
   "outputs": [
    {
     "data": {
      "image/png": "[encoded data removed]",
      "text/plain": [
       "<Figure size 432x288 with 2 Axes>"
      ]
     },
     "metadata": {
      "needs_background": "light"
     },
     "output_type": "display_data"
    },
    {
     "data": {
      "image/png": "[encoded data removed]",
      "text/plain": [
       "<Figure size 432x288 with 2 Axes>"
      ]
     },
     "metadata": {
      "needs_background": "light"
     },
     "output_type": "display_data"
    }
   ],
   "source": [
    "# TODO \n",
    "from sklearn.metrics import ConfusionMatrixDisplay\n",
    "disp = ConfusionMatrixDisplay.from_estimator(\n",
    "        LDA_classifier_aaao,\n",
    "        X_test_aaao,\n",
    "        y_test_aaao,\n",
    "        cmap=plt.cm.Blues,\n",
    "    )\n",
    "disp.ax_.set_title('Confusion matrix without normalization for LDA')\n",
    "plt.show()\n",
    "\n",
    "disp = ConfusionMatrixDisplay.from_estimator(\n",
    "        QDA_classifier_aaao,\n",
    "        X_test_aaao,\n",
    "        y_test_aaao,\n",
    "        cmap=plt.cm.Blues,\n",
    "    )\n",
    "disp.ax_.set_title('Confusion matrix without normalization for QDA')\n",
    "plt.show()"
   ]
  },
  {
   "cell_type": "markdown",
   "id": "9a20d132",
   "metadata": {},
   "source": [
    "*Answer*\n",
    "* LDA (training error 21.4%) predicts more correctly than QDA (training error 33.9%).\n",
    "* For positive aa, LDA has much higher sensitivity (68.8% compare to 16.5% of QDA) but lower specificity (85.2% compare to 99.2% of QDA).\n",
    "* LDA has less wrong predictions when true label is aa. QDA has less wrong predictions when true label is ao."
   ]
  }
 ],
 "metadata": {
  "kernelspec": {
   "display_name": "Python 3 (ipykernel)",
   "language": "python",
   "name": "python3"
  },
  "language_info": {
   "codemirror_mode": {
    "name": "ipython",
    "version": 3
   },
   "file_extension": ".py",
   "mimetype": "text/x-python",
   "name": "python",
   "nbconvert_exporter": "python",
   "pygments_lexer": "ipython3",
   "version": "3.9.7"
  }
 },
 "nbformat": 4,
 "nbformat_minor": 5
}
