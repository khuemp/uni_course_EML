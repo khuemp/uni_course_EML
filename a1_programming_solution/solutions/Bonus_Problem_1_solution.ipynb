{
 "cells": [
  {
   "cell_type": "code",
   "execution_count": null,
   "id": "a9ed6b54-f74e-4341-bf36-10d5cc01a09e",
   "metadata": {},
   "outputs": [],
   "source": [
    "import numpy as np\n",
    "import matplotlib.pyplot as plt"
   ]
  },
  {
   "cell_type": "markdown",
   "id": "2200ffb7-3895-4993-8577-c7f940a57463",
   "metadata": {},
   "source": [
    "### Data generation\n",
    "We generated the data using the correct model assumed."
   ]
  },
  {
   "cell_type": "code",
   "execution_count": null,
   "id": "0eb85dd0-a06c-4a56-9576-f139a973ec60",
   "metadata": {},
   "outputs": [],
   "source": [
    "# Here we also provide the function we used to generate the dataset.\n",
    "def generate_data():\n",
    "    v_noise_y = .4\n",
    "    v_noise_x = .01\n",
    "    n = 100\n",
    "    w_true = [1,-2,0,1,4]\n",
    "    rs = np.random.RandomState(110)\n",
    "    \n",
    "    x = np.linspace(-1,1,n) + rs.randn(n)*np.sqrt(v_noise_x)\n",
    "    x[x<-1] = -2 - x[x<-1]\n",
    "    x[x>1] = 2 - x[x>1]\n",
    "    \n",
    "    ps = np.polynomial.chebyshev.Chebyshev(w_true)\n",
    "    y_true = ps(x)\n",
    "    y = y_true + rs.randn(n)*np.sqrt(v_noise_y)\n",
    "    p = np.argsort(x)\n",
    "    return x[p],y[p],y_true[p]\n",
    "x,y,y_true = generate_data()\n",
    "np.savetxt('data/y_target.csv',np.c_[x,y],delimiter=',')"
   ]
  },
  {
   "cell_type": "code",
   "execution_count": null,
   "id": "43c315b4-462f-4e0d-91bd-6543bfc2e562",
   "metadata": {},
   "outputs": [],
   "source": [
    "plt.plot(x,np.c_[y,y_true])"
   ]
  },
  {
   "cell_type": "markdown",
   "id": "11ece75f-ea83-43ad-ac0a-f72a34a6bb9d",
   "metadata": {
    "tags": []
   },
   "source": [
    "### Loading data\n",
    "We first load the problem data."
   ]
  },
  {
   "cell_type": "code",
   "execution_count": null,
   "id": "71524e28-775d-463f-98e6-bf8cce7f1215",
   "metadata": {},
   "outputs": [],
   "source": [
    "def load_data():\n",
    "    xy = np.loadtxt('data/y_target.csv', delimiter=\",\")\n",
    "    return xy[:,0],xy[:,1]\n",
    "\n",
    "x,y = load_data()\n",
    "plt.plot(x,y)"
   ]
  },
  {
   "cell_type": "code",
   "execution_count": null,
   "id": "0298b4e5-f133-4125-87d0-0f56444c4cdb",
   "metadata": {},
   "outputs": [],
   "source": [
    "def generate_features(x, deg):\n",
    "    '''This function generates a design matrix of features for each input point in x\n",
    "    \n",
    "    @param x: the input points\n",
    "    @param deg: the maximum degree of the polynomial basis.\n",
    "    @return : the design matrix X of dimensions NxD+1, so that the i-th row is the feature vector of the i-th input.\n",
    "              Each value X_id = f_d(x_i) for the Chebyshev polynomial (of 1st kind) with degree d.\n",
    "    '''\n",
    "    X = np.polynomial.chebyshev.chebvander(x, deg)\n",
    "    return X\n",
    "\n",
    "D = 4\n",
    "X = generate_features(x, D)\n",
    "X.shape"
   ]
  },
  {
   "cell_type": "code",
   "execution_count": null,
   "id": "4e2dedbb-1d25-4db4-a528-31837c3e6047",
   "metadata": {},
   "outputs": [],
   "source": [
    "\n",
    "def fit(X,y):\n",
    "    '''Learns the coefficients of each of the features in the provided matrix that best predicts y.\n",
    "    @param X: the design matrix of features, one feature per row\n",
    "    @param y: the vector of the dependent variable (labels)\n",
    "    @return: vector of coefficients\n",
    "    '''\n",
    "    #Fit using least squares and return the array of coefficients w of dimension deg+1\n",
    "    w = np.linalg.inv(X.T@X)@X.T@y\n",
    "    return w\n",
    "\n",
    "def fit_cheb(x,y,deg):\n",
    "    '''Learns the coefficients of each of the features in the provided matrix that best predicts y.\n",
    "    @param x: the input points\n",
    "    @param deg: maximum depgree of chebyshev polynomials\n",
    "    @param y: the vector of the dependent variable (labels)\n",
    "    @return: vector of coefficients\n",
    "    '''\n",
    "    X = generate_features(x, deg)\n",
    "    return fit(X, y)\n",
    "    \n",
    "w = fit_cheb(x, y, D)\n",
    "w, X.shape"
   ]
  },
  {
   "cell_type": "code",
   "execution_count": null,
   "id": "52b60f81-74c1-4629-9bfd-411f58874e34",
   "metadata": {},
   "outputs": [],
   "source": [
    "def predict(X,w):\n",
    "    '''Predicts the labels of the linear model using the given coefficients.\n",
    "    @param X: the design matrix of features, one feature per row\n",
    "    @param w: the vector of coefficients\n",
    "    @return: vector of the predicted dependent variable\n",
    "    '''\n",
    "    return X @ w\n",
    "\n",
    "def predict_cheb(x,deg,w):\n",
    "    '''Predicts the labels of our specific model using the given coefficients.\n",
    "    @param x: the input points\n",
    "    @param deg: maximum depgree of chebyshev polynomials\n",
    "    @param w: the vector of coefficients\n",
    "    @return: vector of the predicted dependent variable\n",
    "    '''\n",
    "    X = generate_features(x, deg)\n",
    "    return predict(X, w)\n",
    "    \n",
    "yhat = predict_cheb(x,D,w)\n",
    "plt.plot(x, np.c_[y, yhat])\n"
   ]
  },
  {
   "cell_type": "code",
   "execution_count": null,
   "id": "1938bdb8-5969-4b34-879f-1c176b41c706",
   "metadata": {},
   "outputs": [],
   "source": [
    "from utilities import split_data\n",
    "\n",
    "# Now generate a split of the full data into a taining/.testing dataset.\n",
    "# The result is an object with named attributes x_trn, x_tst, t_trn, and y_tst.\n",
    "data = split_data(x, y)"
   ]
  },
  {
   "cell_type": "code",
   "execution_count": null,
   "id": "3e60291f-d9da-4842-a581-ff0f74976350",
   "metadata": {},
   "outputs": [],
   "source": [
    "# Fit on the train data and evalute the RSS on the test data\n",
    "\n",
    "def mse(y,y_pred):\n",
    "    '''Compute the mean squared error of a prediction and its true label.\n",
    "    @param y: vector of true labels\n",
    "    @param y_hat: vector of predictions\n",
    "    @return: the MSE\n",
    "    '''\n",
    "    return np.mean((y_pred-y)**2)\n",
    "    \n",
    "def evaluate_model_on_dataset(data, deg):\n",
    "    '''Evaluate our model on the given training/testing set.\n",
    "    @param data: The object holding the current split.\n",
    "    @param deg: maximum depgree of chebyshev polynomials\n",
    "    @return: the MSE of the predictions returned by the model learned on the training data\n",
    "             as computed against on the testing labels.\n",
    "    '''\n",
    "    X_train = generate_features(data.x_trn, deg)\n",
    "    X_test = generate_features(data.x_tst, deg)\n",
    "    w = fit(X_train, data.y_trn)\n",
    "    y_pred = predict(X_test, w)\n",
    "    return mse(data.y_tst, y_pred)\n",
    "    "
   ]
  },
  {
   "cell_type": "markdown",
   "id": "5eb0554e-5753-4bd1-a8b8-fe463e991f2e",
   "metadata": {},
   "source": [
    "### Evaluation\n",
    "We now evaluate our models for different degrees."
   ]
  },
  {
   "cell_type": "code",
   "execution_count": null,
   "id": "b39f4576-39ef-4488-bb89-4734a4e281cc",
   "metadata": {},
   "outputs": [],
   "source": [
    "degs = np.arange(15)\n",
    "MSEs = np.r_[[evaluate_model_on_dataset(data, deg) for deg in degs]]"
   ]
  },
  {
   "cell_type": "code",
   "execution_count": null,
   "id": "f72ff730-db44-4a66-a2e9-366c4f08be78",
   "metadata": {},
   "outputs": [],
   "source": [
    "plt.bar(degs, MSEs)\n",
    "plt.xlabel('Maximal Degree')\n",
    "plt.ylabel('Mean Squared Error')"
   ]
  },
  {
   "cell_type": "code",
   "execution_count": null,
   "id": "1da0fb07-6eed-4e09-a6ee-461c8d188b74",
   "metadata": {},
   "outputs": [],
   "source": [
    "from utilities import split_data_around_point\n",
    "data_ap = split_data_around_point(x, y, x_0=0.9)"
   ]
  },
  {
   "cell_type": "markdown",
   "id": "6f3549dd-0a12-482b-874b-0f9e13c6910e",
   "metadata": {},
   "source": [
    "### Evaluation (splits)\n",
    "We compare the effect of the two different splits on the generalisation error."
   ]
  },
  {
   "cell_type": "code",
   "execution_count": null,
   "id": "253c81b1-2af7-4809-9965-333aff5f3f5f",
   "metadata": {},
   "outputs": [],
   "source": [
    "MSEs_ap = np.r_[[evaluate_model_on_dataset(data_ap, deg) for deg in degs]]\n",
    "plt.bar(degs+.2, MSEs, width=.4)\n",
    "plt.bar(degs-.2, MSEs_ap, width=.4)\n",
    "plt.xlabel('Maximal Degree')\n",
    "plt.ylabel('Mean Squared Error')"
   ]
  },
  {
   "cell_type": "code",
   "execution_count": null,
   "id": "2c48e1e0-f5ad-44d7-8941-a12d295a2e36",
   "metadata": {},
   "outputs": [],
   "source": []
  }
 ],
 "metadata": {
  "kernelspec": {
   "display_name": "Python [conda env:work]",
   "language": "python",
   "name": "conda-env-work-py"
  },
  "language_info": {
   "codemirror_mode": {
    "name": "ipython",
    "version": 3
   },
   "file_extension": ".py",
   "mimetype": "text/x-python",
   "name": "python",
   "nbconvert_exporter": "python",
   "pygments_lexer": "ipython3",
   "version": "3.10.6"
  }
 },
 "nbformat": 4,
 "nbformat_minor": 5
}
