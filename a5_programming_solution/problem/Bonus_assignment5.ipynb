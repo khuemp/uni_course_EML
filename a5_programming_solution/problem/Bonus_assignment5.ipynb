{
 "cells": [
  {
   "cell_type": "code",
   "execution_count": 45,
   "id": "75b3d681-1664-43bf-9dd7-96128c01610c",
   "metadata": {},
   "outputs": [],
   "source": [
    "import pandas as pd\n",
    "import numpy as np\n",
    "import matplotlib.pyplot as plt"
   ]
  },
  {
   "cell_type": "code",
   "execution_count": 63,
   "id": "1879fb87-11e9-4200-b6ca-033d545a4dc6",
   "metadata": {},
   "outputs": [],
   "source": [
    "# Load your data\n",
    "data = np.genfromtxt('data2.csv', delimiter=',')\n",
    "N, d = data.shape"
   ]
  },
  {
   "cell_type": "code",
   "execution_count": 64,
   "id": "8db243b7-edfa-4278-9ea9-0579b56e592a",
   "metadata": {},
   "outputs": [],
   "source": [
    "from scipy.stats import multivariate_normal\n",
    "# k = \n",
    "# pi : (k, 1)\n",
    "# gamma : (N, k)\n",
    "# means : (k, d) \n",
    "# cov : (k, d, d)"
   ]
  },
  {
   "cell_type": "code",
   "execution_count": 66,
   "id": "8730ebfe-692d-48bc-9b7c-9a37c4f4c866",
   "metadata": {},
   "outputs": [],
   "source": [
    "num_iterations = 1000\n",
    "for i in range(num_iterations):\n",
    "    # E step\n",
    "     \n",
    "\n",
    "    # M step\n",
    "    "
   ]
  },
  {
   "cell_type": "code",
   "execution_count": 68,
   "id": "b9558376-4b40-4c78-b9d7-7dcbbc136e63",
   "metadata": {},
   "outputs": [],
   "source": [
    "N    = 200\n",
    "X    = np.linspace(-12, 12, N)\n",
    "Y    = np.linspace(-12, 12, N)\n",
    "X, Y = np.meshgrid(X, Y)\n",
    "pos  = np.dstack((X, Y))\n",
    "plt.figure()\n",
    "for i in range(k):\n",
    "    rv   = multivariate_normal(means[i], cov[i])\n",
    "    Z    = rv.pdf(pos)\n",
    "    plt.contour(X, Y, Z)\n",
    "\n",
    "plt.scatter(data[:, 0], data[:, 1])\n",
    "plt.show()"
   ]
  },
  {
   "cell_type": "code",
   "execution_count": null,
   "id": "23cc7b4a-34b5-491c-8887-055f68a0886b",
   "metadata": {},
   "outputs": [],
   "source": []
  }
 ],
 "metadata": {
  "kernelspec": {
   "display_name": "Python 3 (ipykernel)",
   "language": "python",
   "name": "python3"
  },
  "language_info": {
   "codemirror_mode": {
    "name": "ipython",
    "version": 3
   },
   "file_extension": ".py",
   "mimetype": "text/x-python",
   "name": "python",
   "nbconvert_exporter": "python",
   "pygments_lexer": "ipython3",
   "version": "3.10.4"
  }
 },
 "nbformat": 4,
 "nbformat_minor": 5
}
